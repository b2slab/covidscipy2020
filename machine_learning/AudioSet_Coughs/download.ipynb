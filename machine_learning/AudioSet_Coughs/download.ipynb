{
 "cells": [
  {
   "cell_type": "markdown",
   "metadata": {},
   "source": [
    "#### This script is for downloading the coughs from the Audioset (youtube)\n",
    "Author: Matthias Bittner\n",
    "\n",
    "e-mail: matthias.bittner1@gmx.at"
   ]
  },
  {
   "cell_type": "code",
   "execution_count": 59,
   "metadata": {},
   "outputs": [],
   "source": [
    "# Path to ffmpeg\n",
    "ffmpeg_path = 'C:/ffmpeg/bin/ffmpeg'\n",
    "\n",
    "%matplotlib inline\n",
    "import sys\n",
    "import os.path\n",
    "# Make sure ffmpeg is on the path so sk-video can find it\n",
    "sys.path.append(os.path.dirname(ffmpeg_path))\n",
    "import skvideo.io\n",
    "#import cv2\n",
    "import matplotlib.pyplot as plt\n",
    "import numpy as np\n",
    "import pafy\n",
    "import soundfile as sf\n",
    "import subprocess as sp\n",
    "from IPython.display import Video"
   ]
  },
  {
   "cell_type": "code",
   "execution_count": 66,
   "metadata": {},
   "outputs": [],
   "source": [
    "# Set output settings\n",
    "audio_codec = 'flac'\n",
    "audio_container = 'flac'"
   ]
  },
  {
   "cell_type": "markdown",
   "metadata": {},
   "source": [
    "### Function for donloding the audio with specified yutube ID"
   ]
  },
  {
   "cell_type": "code",
   "execution_count": 67,
   "metadata": {},
   "outputs": [],
   "source": [
    "\n",
    "def download_audio(ytid,duration, audio_codec,audio_container,folder):\n",
    "    # Get the URL to the video page\n",
    "    video_page_url = 'https://www.youtube.com/watch?v={}'.format(ytid)\n",
    "\n",
    "    # Get the direct URLs to the videos with best audio and with best video (with audio)\n",
    "    video = pafy.new(video_page_url)\n",
    "\n",
    "    best_audio = video.getbestaudio()\n",
    "    best_audio_url = best_audio.url\n",
    "    #print(\"Audio URL: \" + best_audio_url)\n",
    "    # Get output video and audio filepaths\n",
    "    basename_fmt = '{}_{}_{}'.format(ytid, int(ts_start*1000), int(ts_end*1000))\n",
    "    #video_filepath = os.path.join('.', basename_fmt + '.' + video_container)\n",
    "    audio_filepath = os.path.join('./' + folder +'/'+ basename_fmt + '.' + audio_codec)\n",
    "    print(audio_filepath)\n",
    "    # Download the audio\n",
    "    audio_dl_args = [ffmpeg_path, '-n',\n",
    "        '-ss', str(ts_start),    # The beginning of the trim window\n",
    "        '-i', best_audio_url,    # Specify the input video URL\n",
    "        '-t', str(duration),     # Specify the duration of the output\n",
    "        '-vn',                   # Suppress the video stream\n",
    "        '-ac', '2',              # Set the number of channels\n",
    "        '-sample_fmt', 's16',    # Specify the bit depth\n",
    "        '-acodec', audio_codec,  # Specify the output encoding\n",
    "        '-ar', '44100',          # Specify the audio sample rate\n",
    "        audio_filepath]\n",
    "\n",
    "    proc = sp.Popen(audio_dl_args, stdout=sp.PIPE, stderr=sp.PIPE)\n",
    "    stdout, stderr = proc.communicate()\n",
    "    if proc.returncode != 0:\n",
    "        print(stderr)\n",
    "    else:\n",
    "        print(\"Downloaded audio to \" + audio_filepath)"
   ]
  },
  {
   "cell_type": "markdown",
   "metadata": {},
   "source": [
    "### We can load the AudioSet training set and grab a video to download:"
   ]
  },
  {
   "cell_type": "code",
   "execution_count": 74,
   "metadata": {},
   "outputs": [],
   "source": [
    "# Load the AudioSet training set\n",
    "folder = 'Evaluation_Coughs'\n",
    "with open('./eval_cough_segments.csv') as f:\n",
    "    lines = f.readlines()\n",
    "\n",
    "dl_list = [line.strip().split(',')[:3] for line in lines[3:]]\n",
    "#len(dl_list)"
   ]
  },
  {
   "cell_type": "code",
   "execution_count": 75,
   "metadata": {},
   "outputs": [
    {
     "name": "stdout",
     "output_type": "stream",
     "text": [
      "./Evaluation_Coughs/--U7joUcTCo_0_10000.flac\n",
      "Downloaded audio to ./Evaluation_Coughs/--U7joUcTCo_0_10000.flac\n",
      "./Evaluation_Coughs/0iiwZ2_9Vi8_90000_100000.flac\n",
      "Downloaded audio to ./Evaluation_Coughs/0iiwZ2_9Vi8_90000_100000.flac\n",
      "./Evaluation_Coughs/0mZQ6Q-viPw_10000_20000.flac\n",
      "Downloaded audio to ./Evaluation_Coughs/0mZQ6Q-viPw_10000_20000.flac\n",
      "./Evaluation_Coughs/130v5XJl8G0_70000_80000.flac\n",
      "Downloaded audio to ./Evaluation_Coughs/130v5XJl8G0_70000_80000.flac\n",
      "./Evaluation_Coughs/1Xmw9VUzvLY_150000_160000.flac\n",
      "Downloaded audio to ./Evaluation_Coughs/1Xmw9VUzvLY_150000_160000.flac\n",
      "./Evaluation_Coughs/39IZIbmQPzA_40000_50000.flac\n",
      "Downloaded audio to ./Evaluation_Coughs/39IZIbmQPzA_40000_50000.flac\n",
      "./Evaluation_Coughs/3Liy9uBgsQM_60000_70000.flac\n",
      "Downloaded audio to ./Evaluation_Coughs/3Liy9uBgsQM_60000_70000.flac\n",
      "./Evaluation_Coughs/3id3zRRZBVM_50000_60000.flac\n",
      "Downloaded audio to ./Evaluation_Coughs/3id3zRRZBVM_50000_60000.flac\n",
      "./Evaluation_Coughs/40fIOkLK3j4_60000_70000.flac\n",
      "Downloaded audio to ./Evaluation_Coughs/40fIOkLK3j4_60000_70000.flac\n",
      "./Evaluation_Coughs/5wbc84KnDS0_60000_70000.flac\n",
      "Downloaded audio to ./Evaluation_Coughs/5wbc84KnDS0_60000_70000.flac\n"
     ]
    },
    {
     "name": "stderr",
     "output_type": "stream",
     "text": [
      "ERROR: Content Warning\n",
      "If the owner of this video has granted you access, please sign in.\n",
      "       This video is private.\n"
     ]
    },
    {
     "name": "stdout",
     "output_type": "stream",
     "text": [
      "7lO9BbTaezE was not able to download\n",
      "./Evaluation_Coughs/9h3a7fN0f-c_240000_250000.flac\n",
      "Downloaded audio to ./Evaluation_Coughs/9h3a7fN0f-c_240000_250000.flac\n",
      "./Evaluation_Coughs/AIVt3e5EVtc_70000_80000.flac\n",
      "Downloaded audio to ./Evaluation_Coughs/AIVt3e5EVtc_70000_80000.flac\n",
      "./Evaluation_Coughs/AlPu_yxLT2g_230000_240000.flac\n",
      "Downloaded audio to ./Evaluation_Coughs/AlPu_yxLT2g_230000_240000.flac\n",
      "./Evaluation_Coughs/BZU01hhyVKs_480000_490000.flac\n",
      "Downloaded audio to ./Evaluation_Coughs/BZU01hhyVKs_480000_490000.flac\n",
      "./Evaluation_Coughs/DYTLct-5tVs_0_10000.flac\n",
      "Downloaded audio to ./Evaluation_Coughs/DYTLct-5tVs_0_10000.flac\n"
     ]
    },
    {
     "name": "stderr",
     "output_type": "stream",
     "text": [
      "ERROR: Content Warning\n",
      "If the owner of this video has granted you access, please sign in.\n",
      "       This video is private.\n"
     ]
    },
    {
     "name": "stdout",
     "output_type": "stream",
     "text": [
      "HJg4jZNv1pc was not able to download\n",
      "./Evaluation_Coughs/HMnF8n9c5-Y_30000_40000.flac\n",
      "Downloaded audio to ./Evaluation_Coughs/HMnF8n9c5-Y_30000_40000.flac\n",
      "./Evaluation_Coughs/IYllzXfvkmY_20000_30000.flac\n",
      "Downloaded audio to ./Evaluation_Coughs/IYllzXfvkmY_20000_30000.flac\n"
     ]
    },
    {
     "name": "stderr",
     "output_type": "stream",
     "text": [
      "ERROR: Content Warning\n",
      "If the owner of this video has granted you access, please sign in.\n",
      "       This video is private.\n"
     ]
    },
    {
     "name": "stdout",
     "output_type": "stream",
     "text": [
      "IwQFUAPEk70 was not able to download\n",
      "./Evaluation_Coughs/IzPMbIll3LE_80000_90000.flac\n",
      "Downloaded audio to ./Evaluation_Coughs/IzPMbIll3LE_80000_90000.flac\n",
      "./Evaluation_Coughs/JKUSKYdYo9w_0_10000.flac\n",
      "Downloaded audio to ./Evaluation_Coughs/JKUSKYdYo9w_0_10000.flac\n",
      "./Evaluation_Coughs/JLtieDCSa6Y_0_10000.flac\n",
      "Downloaded audio to ./Evaluation_Coughs/JLtieDCSa6Y_0_10000.flac\n",
      "./Evaluation_Coughs/Kqt4BiLQeeI_220000_230000.flac\n",
      "Downloaded audio to ./Evaluation_Coughs/Kqt4BiLQeeI_220000_230000.flac\n",
      "./Evaluation_Coughs/MVLEz28ZdFU_10000_20000.flac\n",
      "Downloaded audio to ./Evaluation_Coughs/MVLEz28ZdFU_10000_20000.flac\n",
      "./Evaluation_Coughs/NjazulpHxNY_20000_30000.flac\n",
      "Downloaded audio to ./Evaluation_Coughs/NjazulpHxNY_20000_30000.flac\n",
      "./Evaluation_Coughs/OSlYn9hTRFA_30000_40000.flac\n",
      "Downloaded audio to ./Evaluation_Coughs/OSlYn9hTRFA_30000_40000.flac\n",
      "./Evaluation_Coughs/OwAUGABGrqk_30000_40000.flac\n",
      "Downloaded audio to ./Evaluation_Coughs/OwAUGABGrqk_30000_40000.flac\n",
      "./Evaluation_Coughs/PyXQVNaAbHc_30000_40000.flac\n",
      "Downloaded audio to ./Evaluation_Coughs/PyXQVNaAbHc_30000_40000.flac\n",
      "./Evaluation_Coughs/RFeU64gTvGQ_0_10000.flac\n",
      "Downloaded audio to ./Evaluation_Coughs/RFeU64gTvGQ_0_10000.flac\n",
      "./Evaluation_Coughs/RXJxtAHtkcs_0_10000.flac\n",
      "Downloaded audio to ./Evaluation_Coughs/RXJxtAHtkcs_0_10000.flac\n",
      "./Evaluation_Coughs/Rr84-EZvO0U_90000_100000.flac\n",
      "Downloaded audio to ./Evaluation_Coughs/Rr84-EZvO0U_90000_100000.flac\n",
      "./Evaluation_Coughs/Rtg1SUrxOPY_130000_140000.flac\n",
      "Downloaded audio to ./Evaluation_Coughs/Rtg1SUrxOPY_130000_140000.flac\n",
      "./Evaluation_Coughs/S3oZrMGDMMw_10000_20000.flac\n",
      "Downloaded audio to ./Evaluation_Coughs/S3oZrMGDMMw_10000_20000.flac\n",
      "./Evaluation_Coughs/TA-iHSeEUYk_40000_50000.flac\n",
      "Downloaded audio to ./Evaluation_Coughs/TA-iHSeEUYk_40000_50000.flac\n",
      "./Evaluation_Coughs/TB3VhNczX88_10000_20000.flac\n",
      "Downloaded audio to ./Evaluation_Coughs/TB3VhNczX88_10000_20000.flac\n"
     ]
    },
    {
     "name": "stderr",
     "output_type": "stream",
     "text": [
      "ERROR: ThHs0zNnQXg: YouTube said: This video has been removed for violating YouTube's policy on nudity or sexual content.\n",
      "Sorry about that.\n"
     ]
    },
    {
     "name": "stdout",
     "output_type": "stream",
     "text": [
      "ThHs0zNnQXg was not able to download\n",
      "./Evaluation_Coughs/TjP-9AlPShg_140000_150000.flac\n",
      "Downloaded audio to ./Evaluation_Coughs/TjP-9AlPShg_140000_150000.flac\n",
      "./Evaluation_Coughs/X8yUSV4oqoU_30000_40000.flac\n",
      "Downloaded audio to ./Evaluation_Coughs/X8yUSV4oqoU_30000_40000.flac\n",
      "./Evaluation_Coughs/YsUCzO0gfro_60000_70000.flac\n",
      "Downloaded audio to ./Evaluation_Coughs/YsUCzO0gfro_60000_70000.flac\n",
      "./Evaluation_Coughs/_-_5kbw2Mcw_0_10000.flac\n",
      "Downloaded audio to ./Evaluation_Coughs/_-_5kbw2Mcw_0_10000.flac\n"
     ]
    },
    {
     "name": "stderr",
     "output_type": "stream",
     "text": [
      "ERROR: _prGJ06oCXk: YouTube said: This video is no longer available because the YouTube account associated with this video has been terminated.\n",
      "Sorry about that.\n"
     ]
    },
    {
     "name": "stdout",
     "output_type": "stream",
     "text": [
      "_prGJ06oCXk was not able to download\n"
     ]
    },
    {
     "name": "stderr",
     "output_type": "stream",
     "text": [
      "ERROR: aFfXpjfI2nk: YouTube said: This video has been removed for violating YouTube's Terms of Service.\n",
      "Sorry about that.\n"
     ]
    },
    {
     "name": "stdout",
     "output_type": "stream",
     "text": [
      "aFfXpjfI2nk was not able to download\n",
      "./Evaluation_Coughs/fIer0uCLqSM_30000_40000.flac\n",
      "Downloaded audio to ./Evaluation_Coughs/fIer0uCLqSM_30000_40000.flac\n"
     ]
    },
    {
     "name": "stderr",
     "output_type": "stream",
     "text": [
      "ERROR: hQMkT2YEnNA: YouTube said: This video is no longer available because the YouTube account associated with this video has been terminated.\n",
      "Sorry about that.\n"
     ]
    },
    {
     "name": "stdout",
     "output_type": "stream",
     "text": [
      "hQMkT2YEnNA was not able to download\n",
      "./Evaluation_Coughs/iUtE4nRvBsM_40000_50000.flac\n",
      "Downloaded audio to ./Evaluation_Coughs/iUtE4nRvBsM_40000_50000.flac\n"
     ]
    },
    {
     "name": "stderr",
     "output_type": "stream",
     "text": [
      "ERROR: Content Warning\n",
      "If the owner of this video has granted you access, please sign in.\n",
      "       This video is private.\n"
     ]
    },
    {
     "name": "stdout",
     "output_type": "stream",
     "text": [
      "j6gaw7Nasnc was not able to download\n"
     ]
    },
    {
     "name": "stderr",
     "output_type": "stream",
     "text": [
      "ERROR: kL_-XdzJQ3g: YouTube said: This video is no longer available because the YouTube account associated with this video has been terminated.\n",
      "Sorry about that.\n"
     ]
    },
    {
     "name": "stdout",
     "output_type": "stream",
     "text": [
      "kL_-XdzJQ3g was not able to download\n",
      "./Evaluation_Coughs/kOheqjodDmw_50000_60000.flac\n",
      "Downloaded audio to ./Evaluation_Coughs/kOheqjodDmw_50000_60000.flac\n"
     ]
    },
    {
     "name": "stderr",
     "output_type": "stream",
     "text": [
      "ERROR: khC7ed0_Kvs: YouTube said: This video is unavailable.\n",
      "Sorry about that.\n"
     ]
    },
    {
     "name": "stdout",
     "output_type": "stream",
     "text": [
      "khC7ed0_Kvs was not able to download\n",
      "./Evaluation_Coughs/lH6ym1UrlnE_120000_130000.flac\n",
      "Downloaded audio to ./Evaluation_Coughs/lH6ym1UrlnE_120000_130000.flac\n"
     ]
    },
    {
     "name": "stderr",
     "output_type": "stream",
     "text": [
      "ERROR: mQITX62D_3s: YouTube said: This video has been removed for violating YouTube's Terms of Service.\n",
      "Sorry about that.\n"
     ]
    },
    {
     "name": "stdout",
     "output_type": "stream",
     "text": [
      "mQITX62D_3s was not able to download\n",
      "./Evaluation_Coughs/nBuw_KZXT_k_10000_20000.flac\n",
      "Downloaded audio to ./Evaluation_Coughs/nBuw_KZXT_k_10000_20000.flac\n"
     ]
    },
    {
     "name": "stderr",
     "output_type": "stream",
     "text": [
      "ERROR: nK04u0NuenA: YouTube said: This video has been removed for violating YouTube's Community Guidelines.\n",
      "Sorry about that.\n"
     ]
    },
    {
     "name": "stdout",
     "output_type": "stream",
     "text": [
      "nK04u0NuenA was not able to download\n",
      "./Evaluation_Coughs/pzsV0Sr5hrE_0_10000.flac\n",
      "Downloaded audio to ./Evaluation_Coughs/pzsV0Sr5hrE_0_10000.flac\n"
     ]
    },
    {
     "name": "stderr",
     "output_type": "stream",
     "text": [
      "ERROR: vIBtwK5mH5Q: YouTube said: This video has been removed for violating YouTube's Community Guidelines.\n",
      "Sorry about that.\n"
     ]
    },
    {
     "name": "stdout",
     "output_type": "stream",
     "text": [
      "vIBtwK5mH5Q was not able to download\n",
      "./Evaluation_Coughs/w4enmhllLkQ_30000_40000.flac\n",
      "Downloaded audio to ./Evaluation_Coughs/w4enmhllLkQ_30000_40000.flac\n"
     ]
    },
    {
     "name": "stderr",
     "output_type": "stream",
     "text": [
      "ERROR: wU1xLUAWAyA: YouTube said: This video is no longer available because the YouTube account associated with this video has been terminated.\n",
      "Sorry about that.\n"
     ]
    },
    {
     "name": "stdout",
     "output_type": "stream",
     "text": [
      "wU1xLUAWAyA was not able to download\n",
      "./Evaluation_Coughs/wuvn-vp5InE_0_10000.flac\n",
      "Downloaded audio to ./Evaluation_Coughs/wuvn-vp5InE_0_10000.flac\n",
      "./Evaluation_Coughs/yMNs4gCJn1c_20000_30000.flac\n",
      "Downloaded audio to ./Evaluation_Coughs/yMNs4gCJn1c_20000_30000.flac\n"
     ]
    }
   ],
   "source": [
    "# Select a YouTube video from the training set\n",
    "for i in range(len(dl_list)):\n",
    "    ytid, ts_start, ts_end = dl_list[i]\n",
    "    ts_start, ts_end = float(ts_start), float(ts_end)\n",
    "    duration = ts_end - ts_start\n",
    "    ytid = ytid[1::]\n",
    "    #print(\"YouTube ID: \" + ytid)\n",
    "    #print(\"Trim Window: ({}, {})\".format(ts_start, ts_end))\n",
    "    ### After getting the YouTube ID and trim window for the video we want, we can use `pafy` to get the download URL to the best quality video and audio:\n",
    "    try:\n",
    "        download_audio(ytid,duration, audio_codec,audio_container,folder)\n",
    "    except:\n",
    "        print(ytid + ' was not able to download')"
   ]
  },
  {
   "cell_type": "code",
   "execution_count": 16,
   "metadata": {},
   "outputs": [
    {
     "name": "stdout",
     "output_type": "stream",
     "text": [
      "['C:\\\\Users\\\\matth\\\\Dropbox\\\\1UNI\\\\Erasmus\\\\ETSEIB\\\\FINAL_Auswahl\\\\240AR064 Scientific Phyton for Engineers\\\\Project\\\\covidscipy2020\\\\machine_learning\\\\AudioSet_Coughs', 'C:\\\\Anaconda3\\\\envs\\\\PyCharm_dlib\\\\python38.zip', 'C:\\\\Anaconda3\\\\envs\\\\PyCharm_dlib\\\\DLLs', 'C:\\\\Anaconda3\\\\envs\\\\PyCharm_dlib\\\\lib', 'C:\\\\Anaconda3\\\\envs\\\\PyCharm_dlib', '', 'C:\\\\Anaconda3\\\\envs\\\\PyCharm_dlib\\\\lib\\\\site-packages', 'C:\\\\Anaconda3\\\\envs\\\\PyCharm_dlib\\\\lib\\\\site-packages\\\\win32', 'C:\\\\Anaconda3\\\\envs\\\\PyCharm_dlib\\\\lib\\\\site-packages\\\\win32\\\\lib', 'C:\\\\Anaconda3\\\\envs\\\\PyCharm_dlib\\\\lib\\\\site-packages\\\\Pythonwin', 'C:\\\\Anaconda3\\\\envs\\\\PyCharm_dlib\\\\lib\\\\site-packages\\\\IPython\\\\extensions', 'C:\\\\Users\\\\matth\\\\.ipython', '../../', '../', './', './']\n",
      "['C:\\\\Users\\\\matth\\\\Dropbox\\\\1UNI\\\\Erasmus\\\\ETSEIB\\\\FINAL_Auswahl\\\\240AR064 Scientific Phyton for Engineers\\\\Project\\\\covidscipy2020\\\\machine_learning\\\\AudioSet_Coughs', 'C:\\\\Anaconda3\\\\envs\\\\PyCharm_dlib\\\\python38.zip', 'C:\\\\Anaconda3\\\\envs\\\\PyCharm_dlib\\\\DLLs', 'C:\\\\Anaconda3\\\\envs\\\\PyCharm_dlib\\\\lib', 'C:\\\\Anaconda3\\\\envs\\\\PyCharm_dlib', '', 'C:\\\\Anaconda3\\\\envs\\\\PyCharm_dlib\\\\lib\\\\site-packages', 'C:\\\\Anaconda3\\\\envs\\\\PyCharm_dlib\\\\lib\\\\site-packages\\\\win32', 'C:\\\\Anaconda3\\\\envs\\\\PyCharm_dlib\\\\lib\\\\site-packages\\\\win32\\\\lib', 'C:\\\\Anaconda3\\\\envs\\\\PyCharm_dlib\\\\lib\\\\site-packages\\\\Pythonwin', 'C:\\\\Anaconda3\\\\envs\\\\PyCharm_dlib\\\\lib\\\\site-packages\\\\IPython\\\\extensions', 'C:\\\\Users\\\\matth\\\\.ipython', '../../', '../', './', './', 'C:\\\\Users\\\\matth\\\\Dropbox\\\\1UNI\\\\Erasmus\\\\ETSEIB\\\\FINAL_Auswahl\\\\240AR064 Scientific Phyton for Engineers\\\\Project\\\\covidscipy2020\\\\machine_learning']\n"
     ]
    }
   ],
   "source": []
  },
  {
   "cell_type": "code",
   "execution_count": null,
   "metadata": {},
   "outputs": [],
   "source": []
  }
 ],
 "metadata": {
  "kernelspec": {
   "display_name": "Python 3",
   "language": "python",
   "name": "python3"
  },
  "language_info": {
   "codemirror_mode": {
    "name": "ipython",
    "version": 3
   },
   "file_extension": ".py",
   "mimetype": "text/x-python",
   "name": "python",
   "nbconvert_exporter": "python",
   "pygments_lexer": "ipython3",
   "version": "3.8.1"
  }
 },
 "nbformat": 4,
 "nbformat_minor": 2
}
