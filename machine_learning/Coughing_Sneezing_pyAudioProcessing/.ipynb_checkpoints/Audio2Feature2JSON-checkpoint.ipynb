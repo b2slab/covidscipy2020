{
 "cells": [
  {
   "cell_type": "code",
   "execution_count": 28,
   "metadata": {},
   "outputs": [],
   "source": [
    "from pyAudioAnalysis import MidTermFeatures as mF \n",
    "from pyAudioAnalysis import audioBasicIO\n",
    "import matplotlib.pyplot as plt\n",
    "import numpy as np"
   ]
  },
  {
   "cell_type": "markdown",
   "metadata": {},
   "source": [
    "#### Read one Audio File from folder"
   ]
  },
  {
   "cell_type": "code",
   "execution_count": 29,
   "metadata": {},
   "outputs": [
    {
     "data": {
      "image/png": "[encoded data removed]",
      "text/plain": [
       "<Figure size 432x288 with 1 Axes>"
      ]
     },
     "metadata": {
      "needs_background": "light"
     },
     "output_type": "display_data"
    }
   ],
   "source": [
    "[sampling_rate, signal] = audioBasicIO.read_audio_file(\"./data_c_s/Coughing/108017__erocshadow__cough.wav\")\n",
    "plt.figure(1)\n",
    "plt.title(\"Signal Wave...\")\n",
    "plt.plot(signal)\n",
    "plt.show()"
   ]
  },
  {
   "cell_type": "markdown",
   "metadata": {},
   "source": [
    "##### Create feature vector  from signal\n"
   ]
  },
  {
   "cell_type": "code",
   "execution_count": 38,
   "metadata": {},
   "outputs": [
    {
     "name": "stdout",
     "output_type": "stream",
     "text": [
      "(55, 136)\n"
     ]
    },
    {
     "data": {
      "text/plain": [
       "136"
      ]
     },
     "execution_count": 38,
     "metadata": {},
     "output_type": "execute_result"
    }
   ],
   "source": [
    "mid_window = round(0.1 * sampling_rate)\n",
    "mid_step =  round(0.1 * sampling_rate)                                   \n",
    "short_window =  round(sampling_rate * 0.01)\n",
    "short_step = round(sampling_rate * 0.01)\n",
    "       \n",
    "signal = audioBasicIO.stereo_to_mono(signal)\n",
    "[mid_features, short_features, mid_feature_names] = mF.mid_feature_extraction(signal, sampling_rate, mid_window, mid_step, short_window, short_step);\n",
    "mid_features = np.transpose(mid_features)\n",
    "mid_term_features = mid_features.mean(axis=0)\n",
    "print(np.shape(mid_Term_features))\n",
    "len(mid_feature_names)\n"
   ]
  },
  {
   "cell_type": "code",
   "execution_count": null,
   "metadata": {},
   "outputs": [],
   "source": []
  },
  {
   "cell_type": "code",
   "execution_count": 10,
   "metadata": {},
   "outputs": [],
   "source": [
    "import numpy as np\n",
    "import pandas as pd\n",
    "label_cough = np.zeros(np.shape(mid_term_features_Cough)[0])\n",
    "np.shape(label_cough)\n",
    "label_sneezing = np.ones(np.shape(mid_term_features_Sneezig)[0])\n",
    "np.shape(label_cough)\n",
    "features = np.concatenate((mid_term_features_Cough, mid_term_features_Sneezig))\n",
    "labels = np.concatenate((label_cough, label_sneezing))\n",
    "mid_feature_names = np.array(mid_feature_names)\n",
    "\n",
    "df= pd.DataFrame(features, columns = mid_feature_names)\n",
    "df[\"align\"] = pd.Series(labels)\n",
    "\n",
    "\n",
    "df.to_csv(r'./data_c_s/features.csv', index = False, header=True)\n"
   ]
  },
  {
   "cell_type": "code",
   "execution_count": 11,
   "metadata": {},
   "outputs": [
    {
     "name": "stdout",
     "output_type": "stream",
     "text": [
      "     zcr_mean  energy_mean  energy_entropy_mean  spectral_centroid_mean  \\\n",
      "0    0.007488     0.019295             2.896622                0.098709   \n",
      "1    0.070816     0.007720             2.961559                0.192029   \n",
      "2    0.017697     0.006874             3.179752                0.058941   \n",
      "3    0.042191     0.001264             2.913102                0.129917   \n",
      "4    0.093229     0.003381             3.045701                0.235522   \n",
      "..        ...          ...                  ...                     ...   \n",
      "154  0.083186     0.003546             3.038422                0.162136   \n",
      "155  0.040664     0.003499             0.945164                0.065511   \n",
      "156  0.043877     0.001770             2.773223                0.079611   \n",
      "157  0.139573     0.006362             2.968552                0.235783   \n",
      "158  0.015123     0.006132             1.268138                0.040401   \n",
      "\n",
      "     spectral_spread_mean  spectral_entropy_mean  spectral_flux_mean  \\\n",
      "0                0.185257               0.072582            0.099185   \n",
      "1                0.241544               0.411694            0.033034   \n",
      "2                0.118643               0.123518            0.016566   \n",
      "3                0.189825               0.302562            0.019861   \n",
      "4                0.221580               0.881199            0.024914   \n",
      "..                    ...                    ...                 ...   \n",
      "154              0.187857               0.662991            0.024559   \n",
      "155              0.055331               0.304044            0.006756   \n",
      "156              0.073741               0.432755            0.019115   \n",
      "157              0.222554               1.143842            0.012537   \n",
      "158              0.044937               0.145462            0.003685   \n",
      "\n",
      "     spectral_rolloff_mean  mfcc_1_mean  mfcc_2_mean  ...  delta chroma_5_std  \\\n",
      "0                 0.010492   -36.464875    -2.245581  ...            0.001006   \n",
      "1                 0.059606   -35.819838    -0.785078  ...            0.002315   \n",
      "2                 0.026091   -37.310915    -0.917363  ...            0.001520   \n",
      "3                 0.057118   -39.151256    -1.701429  ...            0.008702   \n",
      "4                 0.128429   -37.015577    -1.723612  ...            0.006727   \n",
      "..                     ...          ...          ...  ...                 ...   \n",
      "154               0.109427   -37.335306    -2.273591  ...            0.005290   \n",
      "155               0.067000   -47.211544    -0.572057  ...            0.003117   \n",
      "156               0.067109   -47.009004    -0.580025  ...            0.001783   \n",
      "157               0.222900   -38.697073    -1.425460  ...            0.004230   \n",
      "158               0.023027   -46.952257    -0.427384  ...            0.001353   \n",
      "\n",
      "     delta chroma_6_std  delta chroma_7_std  delta chroma_8_std  \\\n",
      "0              0.018698            0.000130            0.000884   \n",
      "1              0.029651            0.000372            0.003810   \n",
      "2              0.008080            0.000156            0.001440   \n",
      "3              0.041918            0.000782            0.005567   \n",
      "4              0.020177            0.001267            0.003820   \n",
      "..                  ...                 ...                 ...   \n",
      "154            0.010921            0.002292            0.006157   \n",
      "155            0.005343            0.001521            0.001445   \n",
      "156            0.005466            0.001927            0.001237   \n",
      "157            0.024861            0.002158            0.003607   \n",
      "158            0.003710            0.000926            0.000672   \n",
      "\n",
      "     delta chroma_9_std  delta chroma_10_std  delta chroma_11_std  \\\n",
      "0              0.006867             0.000714             0.033565   \n",
      "1              0.006200             0.001496             0.043889   \n",
      "2              0.003492             0.004357             0.015482   \n",
      "3              0.017939             0.003001             0.038775   \n",
      "4              0.006581             0.005001             0.032707   \n",
      "..                  ...                  ...                  ...   \n",
      "154            0.010726             0.008147             0.021332   \n",
      "155            0.002683             0.001187             0.014906   \n",
      "156            0.001731             0.001089             0.010205   \n",
      "157            0.014772             0.003462             0.039745   \n",
      "158            0.002845             0.001415             0.008548   \n",
      "\n",
      "     delta chroma_12_std  delta chroma_std_std  align  \n",
      "0               0.001250              0.008503    0.0  \n",
      "1               0.003291              0.009019    0.0  \n",
      "2               0.002237              0.003983    0.0  \n",
      "3               0.001503              0.006755    0.0  \n",
      "4               0.006541              0.007793    0.0  \n",
      "..                   ...                   ...    ...  \n",
      "154             0.006285              0.006787    1.0  \n",
      "155             0.001446              0.004005    1.0  \n",
      "156             0.000944              0.003069    1.0  \n",
      "157             0.003123              0.010291    1.0  \n",
      "158             0.000589              0.001885    1.0  \n",
      "\n",
      "[159 rows x 137 columns]\n"
     ]
    }
   ],
   "source": [
    "print(pd.read_csv('./data_c_s/features.csv'))"
   ]
  },
  {
   "cell_type": "code",
   "execution_count": null,
   "metadata": {},
   "outputs": [],
   "source": []
  },
  {
   "cell_type": "code",
   "execution_count": null,
   "metadata": {},
   "outputs": [],
   "source": []
  }
 ],
 "metadata": {
  "kernelspec": {
   "display_name": "Python 3",
   "language": "python",
   "name": "python3"
  },
  "language_info": {
   "codemirror_mode": {
    "name": "ipython",
    "version": 3
   },
   "file_extension": ".py",
   "mimetype": "text/x-python",
   "name": "python",
   "nbconvert_exporter": "python",
   "pygments_lexer": "ipython3",
   "version": "3.7.4"
  }
 },
 "nbformat": 4,
 "nbformat_minor": 4
}
