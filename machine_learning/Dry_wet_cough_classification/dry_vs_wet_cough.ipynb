{
 "cells": [
  {
   "cell_type": "markdown",
   "metadata": {},
   "source": [
    "# Dry vs Wet cough classification test\n"
   ]
  },
  {
   "cell_type": "code",
   "execution_count": 2,
   "metadata": {},
   "outputs": [],
   "source": [
    "import numpy as np\n",
    "import matplotlib.pyplot as plt\n",
    "from scipy.io.wavfile import read,write\n",
    "from numpy.fft import fft,ifft\n",
    "from pydub import AudioSegment"
   ]
  },
  {
   "cell_type": "markdown",
   "metadata": {},
   "source": [
    "## Loading files"
   ]
  },
  {
   "cell_type": "code",
   "execution_count": 8,
   "metadata": {},
   "outputs": [
    {
     "name": "stderr",
     "output_type": "stream",
     "text": [
      "/home/andrine/anaconda3/lib/python3.7/site-packages/pydub/utils.py:165: RuntimeWarning: Couldn't find ffmpeg or avconv - defaulting to ffmpeg, but may not work\n",
      "  warn(\"Couldn't find ffmpeg or avconv - defaulting to ffmpeg, but may not work\", RuntimeWarning)\n"
     ]
    }
   ],
   "source": [
    "from clean_up import load_data"
   ]
  },
  {
   "cell_type": "markdown",
   "metadata": {},
   "source": [
    "Loading the data as AudioSegments, and deviding them into wet and dry classes. "
   ]
  },
  {
   "cell_type": "code",
   "execution_count": 9,
   "metadata": {},
   "outputs": [],
   "source": [
    "wet, dry = load_data()"
   ]
  },
  {
   "cell_type": "code",
   "execution_count": 12,
   "metadata": {},
   "outputs": [],
   "source": [
    "tot = 0\n",
    "for elm in (wet + dry):\n",
    "    tot = tot + len(elm)\n",
    "av_len = tot + len(wet + dry)"
   ]
  },
  {
   "cell_type": "code",
   "execution_count": 13,
   "metadata": {},
   "outputs": [
    {
     "data": {
      "text/plain": [
       "114463"
      ]
     },
     "execution_count": 13,
     "metadata": {},
     "output_type": "execute_result"
    }
   ],
   "source": [
    "av_len"
   ]
  },
  {
   "cell_type": "code",
   "execution_count": null,
   "metadata": {},
   "outputs": [],
   "source": []
  },
  {
   "cell_type": "code",
   "execution_count": 11,
   "metadata": {},
   "outputs": [
    {
     "data": {
      "text/plain": [
       "[<pydub.audio_segment.AudioSegment at 0x7fec78fe0290>,\n",
       " <pydub.audio_segment.AudioSegment at 0x7fec78ffb210>,\n",
       " <pydub.audio_segment.AudioSegment at 0x7fec78b60a50>,\n",
       " <pydub.audio_segment.AudioSegment at 0x7fec78b60a10>,\n",
       " <pydub.audio_segment.AudioSegment at 0x7fec78b60ad0>,\n",
       " <pydub.audio_segment.AudioSegment at 0x7fec78b60b50>,\n",
       " <pydub.audio_segment.AudioSegment at 0x7fec78b60b90>,\n",
       " <pydub.audio_segment.AudioSegment at 0x7fec78b60bd0>,\n",
       " <pydub.audio_segment.AudioSegment at 0x7fec78b60c10>,\n",
       " <pydub.audio_segment.AudioSegment at 0x7fec78b60b10>,\n",
       " <pydub.audio_segment.AudioSegment at 0x7fec78b60c50>,\n",
       " <pydub.audio_segment.AudioSegment at 0x7fec78b60c90>,\n",
       " <pydub.audio_segment.AudioSegment at 0x7fec78b60cd0>,\n",
       " <pydub.audio_segment.AudioSegment at 0x7fec78b60d10>,\n",
       " <pydub.audio_segment.AudioSegment at 0x7fec78b60d50>,\n",
       " <pydub.audio_segment.AudioSegment at 0x7fec78b60d90>,\n",
       " <pydub.audio_segment.AudioSegment at 0x7fec78b60dd0>,\n",
       " <pydub.audio_segment.AudioSegment at 0x7fec78b60e10>,\n",
       " <pydub.audio_segment.AudioSegment at 0x7fec78b60e50>,\n",
       " <pydub.audio_segment.AudioSegment at 0x7fec78b60e90>,\n",
       " <pydub.audio_segment.AudioSegment at 0x7fec78b60f10>,\n",
       " <pydub.audio_segment.AudioSegment at 0x7fec78b60f50>,\n",
       " <pydub.audio_segment.AudioSegment at 0x7fec78b60ed0>,\n",
       " <pydub.audio_segment.AudioSegment at 0x7fec78b60fd0>,\n",
       " <pydub.audio_segment.AudioSegment at 0x7fec7abdb550>,\n",
       " <pydub.audio_segment.AudioSegment at 0x7fec7856b050>,\n",
       " <pydub.audio_segment.AudioSegment at 0x7fec7856b090>,\n",
       " <pydub.audio_segment.AudioSegment at 0x7fec7856b0d0>,\n",
       " <pydub.audio_segment.AudioSegment at 0x7fec7856b110>,\n",
       " <pydub.audio_segment.AudioSegment at 0x7fec7856b150>,\n",
       " <pydub.audio_segment.AudioSegment at 0x7fec7856b190>,\n",
       " <pydub.audio_segment.AudioSegment at 0x7fec7856b1d0>,\n",
       " <pydub.audio_segment.AudioSegment at 0x7fec79009d10>,\n",
       " <pydub.audio_segment.AudioSegment at 0x7fec790091d0>,\n",
       " <pydub.audio_segment.AudioSegment at 0x7fec79009690>,\n",
       " <pydub.audio_segment.AudioSegment at 0x7fec79009750>,\n",
       " <pydub.audio_segment.AudioSegment at 0x7fec79009050>,\n",
       " <pydub.audio_segment.AudioSegment at 0x7fec79009210>,\n",
       " <pydub.audio_segment.AudioSegment at 0x7fec79009490>,\n",
       " <pydub.audio_segment.AudioSegment at 0x7fec79009d90>,\n",
       " <pydub.audio_segment.AudioSegment at 0x7fec79009ad0>,\n",
       " <pydub.audio_segment.AudioSegment at 0x7feca12e0dd0>]"
      ]
     },
     "execution_count": 11,
     "metadata": {},
     "output_type": "execute_result"
    }
   ],
   "source": [
    "wet + dry"
   ]
  },
  {
   "cell_type": "markdown",
   "metadata": {},
   "source": [
    "# Extracting Features"
   ]
  },
  {
   "cell_type": "markdown",
   "metadata": {},
   "source": [
    "# Exploratory analysis "
   ]
  }
 ],
 "metadata": {
  "kernelspec": {
   "display_name": "Python 3",
   "language": "python",
   "name": "python3"
  },
  "language_info": {
   "codemirror_mode": {
    "name": "ipython",
    "version": 3
   },
   "file_extension": ".py",
   "mimetype": "text/x-python",
   "name": "python",
   "nbconvert_exporter": "python",
   "pygments_lexer": "ipython3",
   "version": "3.7.4"
  }
 },
 "nbformat": 4,
 "nbformat_minor": 4
}
