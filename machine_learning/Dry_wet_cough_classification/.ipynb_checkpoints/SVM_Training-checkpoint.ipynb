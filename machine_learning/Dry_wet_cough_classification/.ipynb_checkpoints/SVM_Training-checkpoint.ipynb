{
 "cells": [
  {
   "cell_type": "markdown",
   "metadata": {},
   "source": [
    "# Copied from:\n",
    "#### This script is for training an SVM in order to classify between *dry* and *wet* coughs\n",
    "Author: Matthias Bittner\n",
    "\n",
    "e-mail: matthias.bittner1@gmx.at\n",
    "\n",
    "Features are read from a  csv and then used for training"
   ]
  },
  {
   "cell_type": "code",
   "execution_count": 1,
   "metadata": {},
   "outputs": [],
   "source": [
    "import numpy as np\n",
    "import pandas as pd\n",
    "from sklearn import preprocessing"
   ]
  },
  {
   "cell_type": "markdown",
   "metadata": {},
   "source": [
    "##### Loading extracted features from audiofiles"
   ]
  },
  {
   "cell_type": "code",
   "execution_count": 2,
   "metadata": {},
   "outputs": [
    {
     "name": "stdout",
     "output_type": "stream",
     "text": [
      "['zcr_mean' 'energy_mean' 'energy_entropy_mean' 'spectral_centroid_mean'\n",
      " 'spectral_spread_mean' 'spectral_entropy_mean' 'spectral_flux_mean'\n",
      " 'spectral_rolloff_mean' 'mfcc_1_mean' 'mfcc_2_mean' 'mfcc_3_mean'\n",
      " 'mfcc_4_mean' 'mfcc_5_mean' 'mfcc_6_mean' 'mfcc_7_mean' 'mfcc_8_mean'\n",
      " 'mfcc_9_mean' 'mfcc_10_mean' 'mfcc_11_mean' 'mfcc_12_mean' 'mfcc_13_mean'\n",
      " 'chroma_1_mean' 'chroma_2_mean' 'chroma_3_mean' 'chroma_4_mean'\n",
      " 'chroma_5_mean' 'chroma_6_mean' 'chroma_7_mean' 'chroma_8_mean'\n",
      " 'chroma_9_mean' 'chroma_10_mean' 'chroma_11_mean' 'chroma_12_mean'\n",
      " 'chroma_std_mean' 'delta zcr_mean' 'delta energy_mean'\n",
      " 'delta energy_entropy_mean' 'delta spectral_centroid_mean'\n",
      " 'delta spectral_spread_mean' 'delta spectral_entropy_mean'\n",
      " 'delta spectral_flux_mean' 'delta spectral_rolloff_mean'\n",
      " 'delta mfcc_1_mean' 'delta mfcc_2_mean' 'delta mfcc_3_mean'\n",
      " 'delta mfcc_4_mean' 'delta mfcc_5_mean' 'delta mfcc_6_mean'\n",
      " 'delta mfcc_7_mean' 'delta mfcc_8_mean' 'delta mfcc_9_mean'\n",
      " 'delta mfcc_10_mean' 'delta mfcc_11_mean' 'delta mfcc_12_mean'\n",
      " 'delta mfcc_13_mean' 'delta chroma_1_mean' 'delta chroma_2_mean'\n",
      " 'delta chroma_3_mean' 'delta chroma_4_mean' 'delta chroma_5_mean'\n",
      " 'delta chroma_6_mean' 'delta chroma_7_mean' 'delta chroma_8_mean'\n",
      " 'delta chroma_9_mean' 'delta chroma_10_mean' 'delta chroma_11_mean'\n",
      " 'delta chroma_12_mean' 'delta chroma_std_mean' 'zcr_std' 'energy_std'\n",
      " 'energy_entropy_std' 'spectral_centroid_std' 'spectral_spread_std'\n",
      " 'spectral_entropy_std' 'spectral_flux_std' 'spectral_rolloff_std'\n",
      " 'mfcc_1_std' 'mfcc_2_std' 'mfcc_3_std' 'mfcc_4_std' 'mfcc_5_std'\n",
      " 'mfcc_6_std' 'mfcc_7_std' 'mfcc_8_std' 'mfcc_9_std' 'mfcc_10_std'\n",
      " 'mfcc_11_std' 'mfcc_12_std' 'mfcc_13_std' 'chroma_1_std' 'chroma_2_std'\n",
      " 'chroma_3_std' 'chroma_4_std' 'chroma_5_std' 'chroma_6_std'\n",
      " 'chroma_7_std' 'chroma_8_std' 'chroma_9_std' 'chroma_10_std'\n",
      " 'chroma_11_std' 'chroma_12_std' 'chroma_std_std' 'delta zcr_std'\n",
      " 'delta energy_std' 'delta energy_entropy_std'\n",
      " 'delta spectral_centroid_std' 'delta spectral_spread_std'\n",
      " 'delta spectral_entropy_std' 'delta spectral_flux_std'\n",
      " 'delta spectral_rolloff_std' 'delta mfcc_1_std' 'delta mfcc_2_std'\n",
      " 'delta mfcc_3_std' 'delta mfcc_4_std' 'delta mfcc_5_std'\n",
      " 'delta mfcc_6_std' 'delta mfcc_7_std' 'delta mfcc_8_std'\n",
      " 'delta mfcc_9_std' 'delta mfcc_10_std' 'delta mfcc_11_std'\n",
      " 'delta mfcc_12_std' 'delta mfcc_13_std' 'delta chroma_1_std'\n",
      " 'delta chroma_2_std' 'delta chroma_3_std' 'delta chroma_4_std'\n",
      " 'delta chroma_5_std' 'delta chroma_6_std' 'delta chroma_7_std'\n",
      " 'delta chroma_8_std' 'delta chroma_9_std' 'delta chroma_10_std'\n",
      " 'delta chroma_11_std' 'delta chroma_12_std' 'delta chroma_std_std']\n"
     ]
    }
   ],
   "source": [
    "df = pd.read_csv('./trimmed_cough_data/features.csv')\n",
    "mid_feature_names = df.columns.values[0:-1]\n",
    "data = df.to_numpy()\n",
    "features = data[:, 0:-1]\n",
    "labels = data[:, -1]\n",
    "print(mid_feature_names)\n",
    "#print(labels)"
   ]
  },
  {
   "cell_type": "markdown",
   "metadata": {},
   "source": [
    "#### Preprocessing Data - Normalization"
   ]
  },
  {
   "cell_type": "code",
   "execution_count": 3,
   "metadata": {},
   "outputs": [],
   "source": [
    "data_scaled = preprocessing.StandardScaler().fit_transform(features)"
   ]
  },
  {
   "cell_type": "markdown",
   "metadata": {},
   "source": [
    "##### Analyzing Feature Space\n",
    "\n",
    "With the 'ind' list one can have a look the different features and how good they seem to be seperated.\n",
    "In this case the two features energy and delta_energy have been choosen. It seems to be that sneezing produces a constant energy level, while coughing does not."
   ]
  },
  {
   "cell_type": "code",
   "execution_count": 47,
   "metadata": {},
   "outputs": [
    {
     "name": "stdout",
     "output_type": "stream",
     "text": [
      "     energy_mean  delta energy_std     align\n",
      "0      -0.073386          0.894438     Cough\n",
      "1      -0.445314         -0.195563     Cough\n",
      "2      -0.472500         -0.351166     Cough\n",
      "3      -0.652747         -0.606064     Cough\n",
      "4      -0.584711         -0.480197     Cough\n",
      "..           ...               ...       ...\n",
      "136     0.463203          0.335213  No_Cough\n",
      "137    -0.605333         -0.318208  No_Cough\n",
      "138    -0.433794         -0.228032  No_Cough\n",
      "139     0.708508          0.723191  No_Cough\n",
      "140    -0.523994         -0.567814  No_Cough\n",
      "\n",
      "[141 rows x 3 columns]\n"
     ]
    },
    {
     "data": {
      "image/png": "[encoded data removed]",
      "text/plain": [
       "<Figure size 446.5x360 with 6 Axes>"
      ]
     },
     "metadata": {
      "needs_background": "light"
     },
     "output_type": "display_data"
    }
   ],
   "source": [
    "import seaborn as sns\n",
    "import pandas as pd\n",
    "import matplotlib.pyplot as plt\n",
    "#ind = [1,68]\n",
    "#ind = [1,35]\n",
    "ind = [1,103]\n",
    "#ind = [69,103]\n",
    "feature_names = mid_feature_names[ind]\n",
    "Cough_df_red = pd.DataFrame(data_scaled[:,ind], columns = feature_names )\n",
    "Cough_df_red[\"align\"] = pd.Series(labels).apply(lambda x: \"No_Cough\" if x==1 else \"Cough\")\n",
    "print(Cough_df_red)\n",
    "g = sns.pairplot(Cough_df_red, hue=\"align\")\n",
    "plt.show()\n",
    "\n",
    "\n"
   ]
  },
  {
   "cell_type": "markdown",
   "metadata": {},
   "source": [
    "### PCA to check how much redundant information is stored in the features.\n"
   ]
  },
  {
   "cell_type": "code",
   "execution_count": 48,
   "metadata": {},
   "outputs": [
    {
     "name": "stdout",
     "output_type": "stream",
     "text": [
      "Explained variability\n",
      "[ 32.00965707  41.84258551  48.69978724  54.48032928  58.79164585\n",
      "  62.31839834  65.65449765  68.64851683  71.30798848  73.79148688\n",
      "  76.09699143  78.04636559  79.98440617  81.55132785  83.03247421\n",
      "  84.38561321  85.63174811  86.7908037   87.86197882  88.76414367\n",
      "  89.61817406  90.38004682  91.07392201  91.72313207  92.34042287\n",
      "  92.86102662  93.37085481  93.82825209  94.24966592  94.63516638\n",
      "  95.0138874   95.36164319  95.66226494  95.94695258  96.20484912\n",
      "  96.44614563  96.67623837  96.89760034  97.10406679  97.30460584\n",
      "  97.49884867  97.67601082  97.84006545  97.99300614  98.13358827\n",
      "  98.26768533  98.38354604  98.4964787   98.60396181  98.70200459\n",
      "  98.7918777   98.8737207   98.9476158   99.0174798   99.08041624\n",
      "  99.14111509  99.19901328  99.25253529  99.30026243  99.34525514\n",
      "  99.3870741   99.42644089  99.46492829  99.50077985  99.53632792\n",
      "  99.57034464  99.60137116  99.62865627  99.65466396  99.67728341\n",
      "  99.69935526  99.72001774  99.73976503  99.75898306  99.77708835\n",
      "  99.79358517  99.80974373  99.82469842  99.83914874  99.85249725\n",
      "  99.86458333  99.87614008  99.88745331  99.89793389  99.90697082\n",
      "  99.91570177  99.92362038  99.93087868  99.93722911  99.94269927\n",
      "  99.9479656   99.95277993  99.95729313  99.96153997  99.96524238\n",
      "  99.96854883  99.9716643   99.9743492   99.97684383  99.97893718\n",
      "  99.98081055  99.982593    99.98427242  99.98589356  99.98731758\n",
      "  99.98862825  99.98983558  99.99098521  99.99196026  99.99279831\n",
      "  99.99362655  99.99440288  99.99506212  99.99565313  99.99621124\n",
      "  99.99672582  99.99718243  99.99755444  99.99790663  99.99824141\n",
      "  99.99853686  99.99880807  99.99905092  99.99926676  99.99940507\n",
      "  99.99953256  99.9996537   99.99975279  99.99984058  99.99988884\n",
      "  99.9999299   99.99996267  99.99998355  99.99999284  99.99999796\n",
      " 100.        ]\n",
      "            0         1     align\n",
      "0   -0.683993 -9.039269     Cough\n",
      "1   -2.758081 -3.276397     Cough\n",
      "2   -0.264831 -2.757214     Cough\n",
      "3   -2.693592  0.132622     Cough\n",
      "4   -2.333338  0.175836     Cough\n",
      "..        ...       ...       ...\n",
      "136 -5.699920 -0.311475  No_cough\n",
      "137 -3.283970 -3.110716  No_cough\n",
      "138 -5.190215  6.822353  No_cough\n",
      "139 -1.578038 -5.993265  No_cough\n",
      "140 -4.125301  3.189995  No_cough\n",
      "\n",
      "[141 rows x 3 columns]\n"
     ]
    },
    {
     "data": {
      "image/png": "[encoded data removed]",
      "text/plain": [
       "<Figure size 445.125x360 with 6 Axes>"
      ]
     },
     "metadata": {
      "needs_background": "light"
     },
     "output_type": "display_data"
    }
   ],
   "source": [
    "from sklearn import decomposition\n",
    "#PCA decomposition to eliminate the irrelevant features\n",
    "print(\"Explained variability\")\n",
    "pca = decomposition.PCA(whiten=False).fit(data_scaled) \n",
    "print(100*pca.explained_variance_ratio_.cumsum())\n",
    "\n",
    "data_reduced = decomposition.PCA(n_components=2,whiten=False).fit_transform(data_scaled) \n",
    "\n",
    "Cough_df_pca = pd.DataFrame(data_reduced)\n",
    "Cough_df_pca[\"align\"] = pd.Series(labels).apply(lambda x: \"No_cough\" if x==1 else \"Cough\")\n",
    "print(Cough_df_pca)\n",
    "g = sns.pairplot(Cough_df_pca, hue=\"align\")\n",
    "plt.show()\n"
   ]
  },
  {
   "cell_type": "markdown",
   "metadata": {},
   "source": [
    "#### Splitting into Test Data and Train Data"
   ]
  },
  {
   "cell_type": "markdown",
   "metadata": {},
   "source": [
    "All the data_scaled  is used to train the SVM -> PCA just use to visualize"
   ]
  },
  {
   "cell_type": "code",
   "execution_count": 49,
   "metadata": {},
   "outputs": [],
   "source": [
    "from sklearn.model_selection import train_test_split\n",
    "\n",
    "X_train, X_test, y_train, y_test = train_test_split(data_scaled, labels, test_size=0.30, random_state=50, shuffle=True)"
   ]
  },
  {
   "cell_type": "markdown",
   "metadata": {},
   "source": [
    "SVM Training with Grid Search\n",
    "==========\n"
   ]
  },
  {
   "cell_type": "code",
   "execution_count": 50,
   "metadata": {},
   "outputs": [],
   "source": [
    "def evaluation_SVM(tuned_parameters,X_train, y_train, X_test, y_test):\n",
    "    scores = ['f1']\n",
    "    for score in scores:\n",
    "        print(\"# Tuning hyper-parameters for %s\" % score)\n",
    "        print()\n",
    "\n",
    "        clf = GridSearchCV(\n",
    "            SVC(), tuned_parameters, scoring='%s_macro' % score,cv=3, n_jobs=-1\n",
    "        )\n",
    "        clf.fit(X_train, y_train)\n",
    "\n",
    "        print(\"Best parameters set found on development set:\")\n",
    "        print()\n",
    "        print(clf.best_params_)\n",
    "        print()\n",
    "        print(\"Grid scores on development set:\")\n",
    "        print()\n",
    "        means = clf.cv_results_['mean_test_score']\n",
    "        stds = clf.cv_results_['std_test_score']\n",
    "        for mean, std, params in zip(means, stds, clf.cv_results_['params']):\n",
    "            print(\"%0.3f (+/-%0.03f) for %r\"\n",
    "                  % (mean, std * 2, params))\n",
    "        print()\n",
    "\n",
    "        print(\"Detailed classification report:\")\n",
    "        print()\n",
    "        print(\"The model is trained on the full development set.\")\n",
    "        print(\"The scores are computed on the full evaluation set.\")\n",
    "        print()\n",
    "        y_true, y_pred = y_test, clf.predict(X_test)\n",
    "        print(classification_report(y_true, y_pred))\n",
    "        print()\n",
    "        print(clf.score(X_test,y_test))\n",
    "    return clf.best_params_"
   ]
  },
  {
   "cell_type": "markdown",
   "metadata": {},
   "source": [
    "#### Libraries for SVM\n"
   ]
  },
  {
   "cell_type": "code",
   "execution_count": 51,
   "metadata": {},
   "outputs": [],
   "source": [
    "from sklearn import preprocessing\n",
    "from sklearn.neural_network import MLPClassifier\n",
    "from sklearn.impute import SimpleImputer\n",
    "from sklearn.metrics import accuracy_score\n",
    "from sklearn import datasets\n",
    "from sklearn.model_selection import train_test_split\n",
    "from sklearn.model_selection import GridSearchCV\n",
    "from sklearn.metrics import classification_report\n",
    "from sklearn.svm import SVC\n",
    "from sklearn import svm\n",
    "from sklearn.model_selection import cross_val_score\n",
    "import matplotlib.pyplot as plt\n",
    "from sklearn.datasets import load_digits\n",
    "from sklearn.model_selection import learning_curve\n",
    "from sklearn import decomposition\n",
    "from sklearn.model_selection import ShuffleSplit\n"
   ]
  },
  {
   "cell_type": "markdown",
   "metadata": {},
   "source": [
    "#### Radial bases function kernel/Gaussian kernel\n"
   ]
  },
  {
   "cell_type": "code",
   "execution_count": 52,
   "metadata": {},
   "outputs": [
    {
     "name": "stdout",
     "output_type": "stream",
     "text": [
      "# Tuning hyper-parameters for f1\n",
      "\n",
      "Best parameters set found on development set:\n",
      "\n",
      "{'C': 10, 'decision_function_shape': 'ovr', 'gamma': 0.001, 'kernel': 'rbf'}\n",
      "\n",
      "Grid scores on development set:\n",
      "\n",
      "0.342 (+/-0.007) for {'C': 0.001, 'decision_function_shape': 'ovr', 'gamma': 3, 'kernel': 'rbf'}\n",
      "0.342 (+/-0.007) for {'C': 0.001, 'decision_function_shape': 'ovr', 'gamma': 2, 'kernel': 'rbf'}\n",
      "0.342 (+/-0.007) for {'C': 0.001, 'decision_function_shape': 'ovr', 'gamma': 1, 'kernel': 'rbf'}\n",
      "0.342 (+/-0.007) for {'C': 0.001, 'decision_function_shape': 'ovr', 'gamma': 0.1, 'kernel': 'rbf'}\n",
      "0.342 (+/-0.007) for {'C': 0.001, 'decision_function_shape': 'ovr', 'gamma': 0.001, 'kernel': 'rbf'}\n",
      "0.342 (+/-0.007) for {'C': 0.001, 'decision_function_shape': 'ovr', 'gamma': 0.0001, 'kernel': 'rbf'}\n",
      "0.342 (+/-0.007) for {'C': 0.001, 'decision_function_shape': 'ovr', 'gamma': 1e-05, 'kernel': 'rbf'}\n",
      "0.342 (+/-0.007) for {'C': 0.01, 'decision_function_shape': 'ovr', 'gamma': 3, 'kernel': 'rbf'}\n",
      "0.342 (+/-0.007) for {'C': 0.01, 'decision_function_shape': 'ovr', 'gamma': 2, 'kernel': 'rbf'}\n",
      "0.342 (+/-0.007) for {'C': 0.01, 'decision_function_shape': 'ovr', 'gamma': 1, 'kernel': 'rbf'}\n",
      "0.342 (+/-0.007) for {'C': 0.01, 'decision_function_shape': 'ovr', 'gamma': 0.1, 'kernel': 'rbf'}\n",
      "0.342 (+/-0.007) for {'C': 0.01, 'decision_function_shape': 'ovr', 'gamma': 0.001, 'kernel': 'rbf'}\n",
      "0.342 (+/-0.007) for {'C': 0.01, 'decision_function_shape': 'ovr', 'gamma': 0.0001, 'kernel': 'rbf'}\n",
      "0.342 (+/-0.007) for {'C': 0.01, 'decision_function_shape': 'ovr', 'gamma': 1e-05, 'kernel': 'rbf'}\n",
      "0.342 (+/-0.007) for {'C': 0.1, 'decision_function_shape': 'ovr', 'gamma': 3, 'kernel': 'rbf'}\n",
      "0.342 (+/-0.007) for {'C': 0.1, 'decision_function_shape': 'ovr', 'gamma': 2, 'kernel': 'rbf'}\n",
      "0.342 (+/-0.007) for {'C': 0.1, 'decision_function_shape': 'ovr', 'gamma': 1, 'kernel': 'rbf'}\n",
      "0.342 (+/-0.007) for {'C': 0.1, 'decision_function_shape': 'ovr', 'gamma': 0.1, 'kernel': 'rbf'}\n",
      "0.342 (+/-0.007) for {'C': 0.1, 'decision_function_shape': 'ovr', 'gamma': 0.001, 'kernel': 'rbf'}\n",
      "0.342 (+/-0.007) for {'C': 0.1, 'decision_function_shape': 'ovr', 'gamma': 0.0001, 'kernel': 'rbf'}\n",
      "0.342 (+/-0.007) for {'C': 0.1, 'decision_function_shape': 'ovr', 'gamma': 1e-05, 'kernel': 'rbf'}\n",
      "0.342 (+/-0.007) for {'C': 1, 'decision_function_shape': 'ovr', 'gamma': 3, 'kernel': 'rbf'}\n",
      "0.342 (+/-0.007) for {'C': 1, 'decision_function_shape': 'ovr', 'gamma': 2, 'kernel': 'rbf'}\n",
      "0.342 (+/-0.007) for {'C': 1, 'decision_function_shape': 'ovr', 'gamma': 1, 'kernel': 'rbf'}\n",
      "0.563 (+/-0.154) for {'C': 1, 'decision_function_shape': 'ovr', 'gamma': 0.1, 'kernel': 'rbf'}\n",
      "0.599 (+/-0.068) for {'C': 1, 'decision_function_shape': 'ovr', 'gamma': 0.001, 'kernel': 'rbf'}\n",
      "0.342 (+/-0.007) for {'C': 1, 'decision_function_shape': 'ovr', 'gamma': 0.0001, 'kernel': 'rbf'}\n",
      "0.342 (+/-0.007) for {'C': 1, 'decision_function_shape': 'ovr', 'gamma': 1e-05, 'kernel': 'rbf'}\n",
      "0.342 (+/-0.007) for {'C': 5, 'decision_function_shape': 'ovr', 'gamma': 3, 'kernel': 'rbf'}\n",
      "0.342 (+/-0.007) for {'C': 5, 'decision_function_shape': 'ovr', 'gamma': 2, 'kernel': 'rbf'}\n",
      "0.342 (+/-0.007) for {'C': 5, 'decision_function_shape': 'ovr', 'gamma': 1, 'kernel': 'rbf'}\n",
      "0.595 (+/-0.147) for {'C': 5, 'decision_function_shape': 'ovr', 'gamma': 0.1, 'kernel': 'rbf'}\n",
      "0.774 (+/-0.106) for {'C': 5, 'decision_function_shape': 'ovr', 'gamma': 0.001, 'kernel': 'rbf'}\n",
      "0.605 (+/-0.053) for {'C': 5, 'decision_function_shape': 'ovr', 'gamma': 0.0001, 'kernel': 'rbf'}\n",
      "0.342 (+/-0.007) for {'C': 5, 'decision_function_shape': 'ovr', 'gamma': 1e-05, 'kernel': 'rbf'}\n",
      "0.342 (+/-0.007) for {'C': 10, 'decision_function_shape': 'ovr', 'gamma': 3, 'kernel': 'rbf'}\n",
      "0.342 (+/-0.007) for {'C': 10, 'decision_function_shape': 'ovr', 'gamma': 2, 'kernel': 'rbf'}\n",
      "0.342 (+/-0.007) for {'C': 10, 'decision_function_shape': 'ovr', 'gamma': 1, 'kernel': 'rbf'}\n",
      "0.595 (+/-0.147) for {'C': 10, 'decision_function_shape': 'ovr', 'gamma': 0.1, 'kernel': 'rbf'}\n",
      "0.784 (+/-0.056) for {'C': 10, 'decision_function_shape': 'ovr', 'gamma': 0.001, 'kernel': 'rbf'}\n",
      "0.632 (+/-0.162) for {'C': 10, 'decision_function_shape': 'ovr', 'gamma': 0.0001, 'kernel': 'rbf'}\n",
      "0.342 (+/-0.007) for {'C': 10, 'decision_function_shape': 'ovr', 'gamma': 1e-05, 'kernel': 'rbf'}\n",
      "0.342 (+/-0.007) for {'C': 25, 'decision_function_shape': 'ovr', 'gamma': 3, 'kernel': 'rbf'}\n",
      "0.342 (+/-0.007) for {'C': 25, 'decision_function_shape': 'ovr', 'gamma': 2, 'kernel': 'rbf'}\n",
      "0.342 (+/-0.007) for {'C': 25, 'decision_function_shape': 'ovr', 'gamma': 1, 'kernel': 'rbf'}\n",
      "0.595 (+/-0.147) for {'C': 25, 'decision_function_shape': 'ovr', 'gamma': 0.1, 'kernel': 'rbf'}\n",
      "0.710 (+/-0.069) for {'C': 25, 'decision_function_shape': 'ovr', 'gamma': 0.001, 'kernel': 'rbf'}\n",
      "0.764 (+/-0.081) for {'C': 25, 'decision_function_shape': 'ovr', 'gamma': 0.0001, 'kernel': 'rbf'}\n",
      "0.542 (+/-0.063) for {'C': 25, 'decision_function_shape': 'ovr', 'gamma': 1e-05, 'kernel': 'rbf'}\n",
      "0.342 (+/-0.007) for {'C': 50, 'decision_function_shape': 'ovr', 'gamma': 3, 'kernel': 'rbf'}\n",
      "0.342 (+/-0.007) for {'C': 50, 'decision_function_shape': 'ovr', 'gamma': 2, 'kernel': 'rbf'}\n",
      "0.342 (+/-0.007) for {'C': 50, 'decision_function_shape': 'ovr', 'gamma': 1, 'kernel': 'rbf'}\n",
      "0.595 (+/-0.147) for {'C': 50, 'decision_function_shape': 'ovr', 'gamma': 0.1, 'kernel': 'rbf'}\n",
      "0.713 (+/-0.075) for {'C': 50, 'decision_function_shape': 'ovr', 'gamma': 0.001, 'kernel': 'rbf'}\n",
      "0.774 (+/-0.106) for {'C': 50, 'decision_function_shape': 'ovr', 'gamma': 0.0001, 'kernel': 'rbf'}\n",
      "0.610 (+/-0.103) for {'C': 50, 'decision_function_shape': 'ovr', 'gamma': 1e-05, 'kernel': 'rbf'}\n",
      "0.342 (+/-0.007) for {'C': 75, 'decision_function_shape': 'ovr', 'gamma': 3, 'kernel': 'rbf'}\n",
      "0.342 (+/-0.007) for {'C': 75, 'decision_function_shape': 'ovr', 'gamma': 2, 'kernel': 'rbf'}\n",
      "0.342 (+/-0.007) for {'C': 75, 'decision_function_shape': 'ovr', 'gamma': 1, 'kernel': 'rbf'}\n",
      "0.595 (+/-0.147) for {'C': 75, 'decision_function_shape': 'ovr', 'gamma': 0.1, 'kernel': 'rbf'}\n",
      "0.722 (+/-0.058) for {'C': 75, 'decision_function_shape': 'ovr', 'gamma': 0.001, 'kernel': 'rbf'}\n",
      "0.753 (+/-0.094) for {'C': 75, 'decision_function_shape': 'ovr', 'gamma': 0.0001, 'kernel': 'rbf'}\n",
      "0.615 (+/-0.153) for {'C': 75, 'decision_function_shape': 'ovr', 'gamma': 1e-05, 'kernel': 'rbf'}\n",
      "0.342 (+/-0.007) for {'C': 100, 'decision_function_shape': 'ovr', 'gamma': 3, 'kernel': 'rbf'}\n",
      "0.342 (+/-0.007) for {'C': 100, 'decision_function_shape': 'ovr', 'gamma': 2, 'kernel': 'rbf'}\n",
      "0.342 (+/-0.007) for {'C': 100, 'decision_function_shape': 'ovr', 'gamma': 1, 'kernel': 'rbf'}\n",
      "0.595 (+/-0.147) for {'C': 100, 'decision_function_shape': 'ovr', 'gamma': 0.1, 'kernel': 'rbf'}\n",
      "0.702 (+/-0.081) for {'C': 100, 'decision_function_shape': 'ovr', 'gamma': 0.001, 'kernel': 'rbf'}\n",
      "0.754 (+/-0.057) for {'C': 100, 'decision_function_shape': 'ovr', 'gamma': 0.0001, 'kernel': 'rbf'}\n",
      "0.634 (+/-0.167) for {'C': 100, 'decision_function_shape': 'ovr', 'gamma': 1e-05, 'kernel': 'rbf'}\n",
      "0.342 (+/-0.007) for {'C': 200, 'decision_function_shape': 'ovr', 'gamma': 3, 'kernel': 'rbf'}\n",
      "0.342 (+/-0.007) for {'C': 200, 'decision_function_shape': 'ovr', 'gamma': 2, 'kernel': 'rbf'}\n",
      "0.342 (+/-0.007) for {'C': 200, 'decision_function_shape': 'ovr', 'gamma': 1, 'kernel': 'rbf'}\n",
      "0.595 (+/-0.147) for {'C': 200, 'decision_function_shape': 'ovr', 'gamma': 0.1, 'kernel': 'rbf'}\n",
      "0.723 (+/-0.092) for {'C': 200, 'decision_function_shape': 'ovr', 'gamma': 0.001, 'kernel': 'rbf'}\n",
      "0.670 (+/-0.072) for {'C': 200, 'decision_function_shape': 'ovr', 'gamma': 0.0001, 'kernel': 'rbf'}\n",
      "0.763 (+/-0.110) for {'C': 200, 'decision_function_shape': 'ovr', 'gamma': 1e-05, 'kernel': 'rbf'}\n",
      "0.342 (+/-0.007) for {'C': 500, 'decision_function_shape': 'ovr', 'gamma': 3, 'kernel': 'rbf'}\n",
      "0.342 (+/-0.007) for {'C': 500, 'decision_function_shape': 'ovr', 'gamma': 2, 'kernel': 'rbf'}\n",
      "0.342 (+/-0.007) for {'C': 500, 'decision_function_shape': 'ovr', 'gamma': 1, 'kernel': 'rbf'}\n",
      "0.595 (+/-0.147) for {'C': 500, 'decision_function_shape': 'ovr', 'gamma': 0.1, 'kernel': 'rbf'}\n",
      "0.723 (+/-0.092) for {'C': 500, 'decision_function_shape': 'ovr', 'gamma': 0.001, 'kernel': 'rbf'}\n",
      "0.693 (+/-0.042) for {'C': 500, 'decision_function_shape': 'ovr', 'gamma': 0.0001, 'kernel': 'rbf'}\n",
      "0.764 (+/-0.119) for {'C': 500, 'decision_function_shape': 'ovr', 'gamma': 1e-05, 'kernel': 'rbf'}\n",
      "0.342 (+/-0.007) for {'C': 750, 'decision_function_shape': 'ovr', 'gamma': 3, 'kernel': 'rbf'}\n",
      "0.342 (+/-0.007) for {'C': 750, 'decision_function_shape': 'ovr', 'gamma': 2, 'kernel': 'rbf'}\n",
      "0.342 (+/-0.007) for {'C': 750, 'decision_function_shape': 'ovr', 'gamma': 1, 'kernel': 'rbf'}\n",
      "0.595 (+/-0.147) for {'C': 750, 'decision_function_shape': 'ovr', 'gamma': 0.1, 'kernel': 'rbf'}\n",
      "0.723 (+/-0.092) for {'C': 750, 'decision_function_shape': 'ovr', 'gamma': 0.001, 'kernel': 'rbf'}\n",
      "0.671 (+/-0.086) for {'C': 750, 'decision_function_shape': 'ovr', 'gamma': 0.0001, 'kernel': 'rbf'}\n",
      "0.743 (+/-0.083) for {'C': 750, 'decision_function_shape': 'ovr', 'gamma': 1e-05, 'kernel': 'rbf'}\n",
      "0.342 (+/-0.007) for {'C': 1000, 'decision_function_shape': 'ovr', 'gamma': 3, 'kernel': 'rbf'}\n",
      "0.342 (+/-0.007) for {'C': 1000, 'decision_function_shape': 'ovr', 'gamma': 2, 'kernel': 'rbf'}\n",
      "0.342 (+/-0.007) for {'C': 1000, 'decision_function_shape': 'ovr', 'gamma': 1, 'kernel': 'rbf'}\n",
      "0.595 (+/-0.147) for {'C': 1000, 'decision_function_shape': 'ovr', 'gamma': 0.1, 'kernel': 'rbf'}\n",
      "0.723 (+/-0.092) for {'C': 1000, 'decision_function_shape': 'ovr', 'gamma': 0.001, 'kernel': 'rbf'}\n",
      "0.682 (+/-0.065) for {'C': 1000, 'decision_function_shape': 'ovr', 'gamma': 0.0001, 'kernel': 'rbf'}\n",
      "0.754 (+/-0.057) for {'C': 1000, 'decision_function_shape': 'ovr', 'gamma': 1e-05, 'kernel': 'rbf'}\n",
      "0.342 (+/-0.007) for {'C': 2000, 'decision_function_shape': 'ovr', 'gamma': 3, 'kernel': 'rbf'}\n",
      "0.342 (+/-0.007) for {'C': 2000, 'decision_function_shape': 'ovr', 'gamma': 2, 'kernel': 'rbf'}\n",
      "0.342 (+/-0.007) for {'C': 2000, 'decision_function_shape': 'ovr', 'gamma': 1, 'kernel': 'rbf'}\n",
      "0.595 (+/-0.147) for {'C': 2000, 'decision_function_shape': 'ovr', 'gamma': 0.1, 'kernel': 'rbf'}\n",
      "0.723 (+/-0.092) for {'C': 2000, 'decision_function_shape': 'ovr', 'gamma': 0.001, 'kernel': 'rbf'}\n",
      "0.682 (+/-0.154) for {'C': 2000, 'decision_function_shape': 'ovr', 'gamma': 0.0001, 'kernel': 'rbf'}\n",
      "0.681 (+/-0.040) for {'C': 2000, 'decision_function_shape': 'ovr', 'gamma': 1e-05, 'kernel': 'rbf'}\n",
      "0.342 (+/-0.007) for {'C': 5000, 'decision_function_shape': 'ovr', 'gamma': 3, 'kernel': 'rbf'}\n",
      "0.342 (+/-0.007) for {'C': 5000, 'decision_function_shape': 'ovr', 'gamma': 2, 'kernel': 'rbf'}\n",
      "0.342 (+/-0.007) for {'C': 5000, 'decision_function_shape': 'ovr', 'gamma': 1, 'kernel': 'rbf'}\n",
      "0.595 (+/-0.147) for {'C': 5000, 'decision_function_shape': 'ovr', 'gamma': 0.1, 'kernel': 'rbf'}\n",
      "0.723 (+/-0.092) for {'C': 5000, 'decision_function_shape': 'ovr', 'gamma': 0.001, 'kernel': 'rbf'}\n",
      "0.671 (+/-0.173) for {'C': 5000, 'decision_function_shape': 'ovr', 'gamma': 0.0001, 'kernel': 'rbf'}\n",
      "0.682 (+/-0.048) for {'C': 5000, 'decision_function_shape': 'ovr', 'gamma': 1e-05, 'kernel': 'rbf'}\n",
      "0.342 (+/-0.007) for {'C': 7000, 'decision_function_shape': 'ovr', 'gamma': 3, 'kernel': 'rbf'}\n",
      "0.342 (+/-0.007) for {'C': 7000, 'decision_function_shape': 'ovr', 'gamma': 2, 'kernel': 'rbf'}\n",
      "0.342 (+/-0.007) for {'C': 7000, 'decision_function_shape': 'ovr', 'gamma': 1, 'kernel': 'rbf'}\n",
      "0.595 (+/-0.147) for {'C': 7000, 'decision_function_shape': 'ovr', 'gamma': 0.1, 'kernel': 'rbf'}\n",
      "0.723 (+/-0.092) for {'C': 7000, 'decision_function_shape': 'ovr', 'gamma': 0.001, 'kernel': 'rbf'}\n",
      "0.671 (+/-0.173) for {'C': 7000, 'decision_function_shape': 'ovr', 'gamma': 0.0001, 'kernel': 'rbf'}\n",
      "0.661 (+/-0.060) for {'C': 7000, 'decision_function_shape': 'ovr', 'gamma': 1e-05, 'kernel': 'rbf'}\n",
      "\n",
      "Detailed classification report:\n",
      "\n",
      "The model is trained on the full development set.\n",
      "The scores are computed on the full evaluation set.\n",
      "\n",
      "              precision    recall  f1-score   support\n",
      "\n",
      "         0.0       0.79      0.68      0.73        22\n",
      "         1.0       0.71      0.81      0.76        21\n",
      "\n",
      "    accuracy                           0.74        43\n",
      "   macro avg       0.75      0.75      0.74        43\n",
      "weighted avg       0.75      0.74      0.74        43\n",
      "\n",
      "\n",
      "0.7436314363143632\n"
     ]
    }
   ],
   "source": [
    "from sklearn.model_selection import GridSearchCV\n",
    "tuned_parameters_2 = [{'C': [0.001, 0.01, 0.1, 1, 5, 10, 25, 50, 75, 100, 200, 500, 750, 1000, 2000, 5000, 7000], 'kernel': ['rbf'], 'decision_function_shape': ['ovr'], 'gamma': [3, 2, 1, 1e-1, 1e-3, 1e-4, 1e-5],},]\n",
    "rbfKernel_param=evaluation_SVM(tuned_parameters_2,X_train, y_train, X_test, y_test)"
   ]
  },
  {
   "cell_type": "markdown",
   "metadata": {},
   "source": [
    "###### Polynomial Kernel"
   ]
  },
  {
   "cell_type": "code",
   "execution_count": 53,
   "metadata": {},
   "outputs": [
    {
     "name": "stdout",
     "output_type": "stream",
     "text": [
      "# Tuning hyper-parameters for f1\n",
      "\n",
      "Best parameters set found on development set:\n",
      "\n",
      "{'C': 0.01, 'decision_function_shape': 'ovr', 'degree': 1, 'gamma': 1, 'kernel': 'poly'}\n",
      "\n",
      "Grid scores on development set:\n",
      "\n",
      "0.671 (+/-0.035) for {'C': 0.01, 'decision_function_shape': 'ovr', 'degree': 1, 'gamma': 5, 'kernel': 'poly'}\n",
      "0.671 (+/-0.035) for {'C': 0.01, 'decision_function_shape': 'ovr', 'degree': 1, 'gamma': 4, 'kernel': 'poly'}\n",
      "0.754 (+/-0.056) for {'C': 0.01, 'decision_function_shape': 'ovr', 'degree': 1, 'gamma': 3, 'kernel': 'poly'}\n",
      "0.754 (+/-0.057) for {'C': 0.01, 'decision_function_shape': 'ovr', 'degree': 1, 'gamma': 2, 'kernel': 'poly'}\n",
      "0.764 (+/-0.119) for {'C': 0.01, 'decision_function_shape': 'ovr', 'degree': 1, 'gamma': 1, 'kernel': 'poly'}\n",
      "0.610 (+/-0.103) for {'C': 0.01, 'decision_function_shape': 'ovr', 'degree': 1, 'gamma': 0.1, 'kernel': 'poly'}\n",
      "0.713 (+/-0.109) for {'C': 0.01, 'decision_function_shape': 'ovr', 'degree': 2, 'gamma': 5, 'kernel': 'poly'}\n",
      "0.713 (+/-0.109) for {'C': 0.01, 'decision_function_shape': 'ovr', 'degree': 2, 'gamma': 4, 'kernel': 'poly'}\n",
      "0.713 (+/-0.109) for {'C': 0.01, 'decision_function_shape': 'ovr', 'degree': 2, 'gamma': 3, 'kernel': 'poly'}\n",
      "0.713 (+/-0.109) for {'C': 0.01, 'decision_function_shape': 'ovr', 'degree': 2, 'gamma': 2, 'kernel': 'poly'}\n",
      "0.713 (+/-0.109) for {'C': 0.01, 'decision_function_shape': 'ovr', 'degree': 2, 'gamma': 1, 'kernel': 'poly'}\n",
      "0.622 (+/-0.181) for {'C': 0.01, 'decision_function_shape': 'ovr', 'degree': 2, 'gamma': 0.1, 'kernel': 'poly'}\n",
      "0.640 (+/-0.162) for {'C': 0.01, 'decision_function_shape': 'ovr', 'degree': 3, 'gamma': 5, 'kernel': 'poly'}\n",
      "0.640 (+/-0.162) for {'C': 0.01, 'decision_function_shape': 'ovr', 'degree': 3, 'gamma': 4, 'kernel': 'poly'}\n",
      "0.640 (+/-0.162) for {'C': 0.01, 'decision_function_shape': 'ovr', 'degree': 3, 'gamma': 3, 'kernel': 'poly'}\n",
      "0.640 (+/-0.162) for {'C': 0.01, 'decision_function_shape': 'ovr', 'degree': 3, 'gamma': 2, 'kernel': 'poly'}\n",
      "0.640 (+/-0.162) for {'C': 0.01, 'decision_function_shape': 'ovr', 'degree': 3, 'gamma': 1, 'kernel': 'poly'}\n",
      "0.663 (+/-0.073) for {'C': 0.01, 'decision_function_shape': 'ovr', 'degree': 3, 'gamma': 0.1, 'kernel': 'poly'}\n",
      "0.651 (+/-0.172) for {'C': 0.1, 'decision_function_shape': 'ovr', 'degree': 1, 'gamma': 5, 'kernel': 'poly'}\n",
      "0.689 (+/-0.140) for {'C': 0.1, 'decision_function_shape': 'ovr', 'degree': 1, 'gamma': 4, 'kernel': 'poly'}\n",
      "0.680 (+/-0.157) for {'C': 0.1, 'decision_function_shape': 'ovr', 'degree': 1, 'gamma': 3, 'kernel': 'poly'}\n",
      "0.661 (+/-0.103) for {'C': 0.1, 'decision_function_shape': 'ovr', 'degree': 1, 'gamma': 2, 'kernel': 'poly'}\n",
      "0.672 (+/-0.020) for {'C': 0.1, 'decision_function_shape': 'ovr', 'degree': 1, 'gamma': 1, 'kernel': 'poly'}\n",
      "0.764 (+/-0.119) for {'C': 0.1, 'decision_function_shape': 'ovr', 'degree': 1, 'gamma': 0.1, 'kernel': 'poly'}\n",
      "0.713 (+/-0.109) for {'C': 0.1, 'decision_function_shape': 'ovr', 'degree': 2, 'gamma': 5, 'kernel': 'poly'}\n",
      "0.713 (+/-0.109) for {'C': 0.1, 'decision_function_shape': 'ovr', 'degree': 2, 'gamma': 4, 'kernel': 'poly'}\n",
      "0.713 (+/-0.109) for {'C': 0.1, 'decision_function_shape': 'ovr', 'degree': 2, 'gamma': 3, 'kernel': 'poly'}\n",
      "0.713 (+/-0.109) for {'C': 0.1, 'decision_function_shape': 'ovr', 'degree': 2, 'gamma': 2, 'kernel': 'poly'}\n",
      "0.713 (+/-0.109) for {'C': 0.1, 'decision_function_shape': 'ovr', 'degree': 2, 'gamma': 1, 'kernel': 'poly'}\n",
      "0.703 (+/-0.139) for {'C': 0.1, 'decision_function_shape': 'ovr', 'degree': 2, 'gamma': 0.1, 'kernel': 'poly'}\n",
      "0.640 (+/-0.162) for {'C': 0.1, 'decision_function_shape': 'ovr', 'degree': 3, 'gamma': 5, 'kernel': 'poly'}\n",
      "0.640 (+/-0.162) for {'C': 0.1, 'decision_function_shape': 'ovr', 'degree': 3, 'gamma': 4, 'kernel': 'poly'}\n",
      "0.640 (+/-0.162) for {'C': 0.1, 'decision_function_shape': 'ovr', 'degree': 3, 'gamma': 3, 'kernel': 'poly'}\n",
      "0.640 (+/-0.162) for {'C': 0.1, 'decision_function_shape': 'ovr', 'degree': 3, 'gamma': 2, 'kernel': 'poly'}\n",
      "0.640 (+/-0.162) for {'C': 0.1, 'decision_function_shape': 'ovr', 'degree': 3, 'gamma': 1, 'kernel': 'poly'}\n",
      "0.640 (+/-0.162) for {'C': 0.1, 'decision_function_shape': 'ovr', 'degree': 3, 'gamma': 0.1, 'kernel': 'poly'}\n",
      "0.681 (+/-0.151) for {'C': 1, 'decision_function_shape': 'ovr', 'degree': 1, 'gamma': 5, 'kernel': 'poly'}\n",
      "0.681 (+/-0.151) for {'C': 1, 'decision_function_shape': 'ovr', 'degree': 1, 'gamma': 4, 'kernel': 'poly'}\n",
      "0.681 (+/-0.151) for {'C': 1, 'decision_function_shape': 'ovr', 'degree': 1, 'gamma': 3, 'kernel': 'poly'}\n",
      "0.681 (+/-0.151) for {'C': 1, 'decision_function_shape': 'ovr', 'degree': 1, 'gamma': 2, 'kernel': 'poly'}\n",
      "0.681 (+/-0.151) for {'C': 1, 'decision_function_shape': 'ovr', 'degree': 1, 'gamma': 1, 'kernel': 'poly'}\n",
      "0.672 (+/-0.020) for {'C': 1, 'decision_function_shape': 'ovr', 'degree': 1, 'gamma': 0.1, 'kernel': 'poly'}\n",
      "0.713 (+/-0.109) for {'C': 1, 'decision_function_shape': 'ovr', 'degree': 2, 'gamma': 5, 'kernel': 'poly'}\n",
      "0.713 (+/-0.109) for {'C': 1, 'decision_function_shape': 'ovr', 'degree': 2, 'gamma': 4, 'kernel': 'poly'}\n",
      "0.713 (+/-0.109) for {'C': 1, 'decision_function_shape': 'ovr', 'degree': 2, 'gamma': 3, 'kernel': 'poly'}\n",
      "0.713 (+/-0.109) for {'C': 1, 'decision_function_shape': 'ovr', 'degree': 2, 'gamma': 2, 'kernel': 'poly'}\n",
      "0.713 (+/-0.109) for {'C': 1, 'decision_function_shape': 'ovr', 'degree': 2, 'gamma': 1, 'kernel': 'poly'}\n",
      "0.713 (+/-0.109) for {'C': 1, 'decision_function_shape': 'ovr', 'degree': 2, 'gamma': 0.1, 'kernel': 'poly'}\n",
      "0.640 (+/-0.162) for {'C': 1, 'decision_function_shape': 'ovr', 'degree': 3, 'gamma': 5, 'kernel': 'poly'}\n",
      "0.640 (+/-0.162) for {'C': 1, 'decision_function_shape': 'ovr', 'degree': 3, 'gamma': 4, 'kernel': 'poly'}\n",
      "0.640 (+/-0.162) for {'C': 1, 'decision_function_shape': 'ovr', 'degree': 3, 'gamma': 3, 'kernel': 'poly'}\n",
      "0.640 (+/-0.162) for {'C': 1, 'decision_function_shape': 'ovr', 'degree': 3, 'gamma': 2, 'kernel': 'poly'}\n",
      "0.640 (+/-0.162) for {'C': 1, 'decision_function_shape': 'ovr', 'degree': 3, 'gamma': 1, 'kernel': 'poly'}\n",
      "0.640 (+/-0.162) for {'C': 1, 'decision_function_shape': 'ovr', 'degree': 3, 'gamma': 0.1, 'kernel': 'poly'}\n",
      "0.681 (+/-0.151) for {'C': 10, 'decision_function_shape': 'ovr', 'degree': 1, 'gamma': 5, 'kernel': 'poly'}\n",
      "0.681 (+/-0.151) for {'C': 10, 'decision_function_shape': 'ovr', 'degree': 1, 'gamma': 4, 'kernel': 'poly'}\n",
      "0.681 (+/-0.151) for {'C': 10, 'decision_function_shape': 'ovr', 'degree': 1, 'gamma': 3, 'kernel': 'poly'}\n",
      "0.681 (+/-0.151) for {'C': 10, 'decision_function_shape': 'ovr', 'degree': 1, 'gamma': 2, 'kernel': 'poly'}\n",
      "0.681 (+/-0.151) for {'C': 10, 'decision_function_shape': 'ovr', 'degree': 1, 'gamma': 1, 'kernel': 'poly'}\n",
      "0.681 (+/-0.151) for {'C': 10, 'decision_function_shape': 'ovr', 'degree': 1, 'gamma': 0.1, 'kernel': 'poly'}\n",
      "0.713 (+/-0.109) for {'C': 10, 'decision_function_shape': 'ovr', 'degree': 2, 'gamma': 5, 'kernel': 'poly'}\n",
      "0.713 (+/-0.109) for {'C': 10, 'decision_function_shape': 'ovr', 'degree': 2, 'gamma': 4, 'kernel': 'poly'}\n",
      "0.713 (+/-0.109) for {'C': 10, 'decision_function_shape': 'ovr', 'degree': 2, 'gamma': 3, 'kernel': 'poly'}\n",
      "0.713 (+/-0.109) for {'C': 10, 'decision_function_shape': 'ovr', 'degree': 2, 'gamma': 2, 'kernel': 'poly'}\n",
      "0.713 (+/-0.109) for {'C': 10, 'decision_function_shape': 'ovr', 'degree': 2, 'gamma': 1, 'kernel': 'poly'}\n",
      "0.713 (+/-0.109) for {'C': 10, 'decision_function_shape': 'ovr', 'degree': 2, 'gamma': 0.1, 'kernel': 'poly'}\n",
      "0.640 (+/-0.162) for {'C': 10, 'decision_function_shape': 'ovr', 'degree': 3, 'gamma': 5, 'kernel': 'poly'}\n",
      "0.640 (+/-0.162) for {'C': 10, 'decision_function_shape': 'ovr', 'degree': 3, 'gamma': 4, 'kernel': 'poly'}\n",
      "0.640 (+/-0.162) for {'C': 10, 'decision_function_shape': 'ovr', 'degree': 3, 'gamma': 3, 'kernel': 'poly'}\n",
      "0.640 (+/-0.162) for {'C': 10, 'decision_function_shape': 'ovr', 'degree': 3, 'gamma': 2, 'kernel': 'poly'}\n",
      "0.640 (+/-0.162) for {'C': 10, 'decision_function_shape': 'ovr', 'degree': 3, 'gamma': 1, 'kernel': 'poly'}\n",
      "0.640 (+/-0.162) for {'C': 10, 'decision_function_shape': 'ovr', 'degree': 3, 'gamma': 0.1, 'kernel': 'poly'}\n",
      "0.681 (+/-0.151) for {'C': 25, 'decision_function_shape': 'ovr', 'degree': 1, 'gamma': 5, 'kernel': 'poly'}\n",
      "0.681 (+/-0.151) for {'C': 25, 'decision_function_shape': 'ovr', 'degree': 1, 'gamma': 4, 'kernel': 'poly'}\n",
      "0.681 (+/-0.151) for {'C': 25, 'decision_function_shape': 'ovr', 'degree': 1, 'gamma': 3, 'kernel': 'poly'}\n",
      "0.681 (+/-0.151) for {'C': 25, 'decision_function_shape': 'ovr', 'degree': 1, 'gamma': 2, 'kernel': 'poly'}\n",
      "0.681 (+/-0.151) for {'C': 25, 'decision_function_shape': 'ovr', 'degree': 1, 'gamma': 1, 'kernel': 'poly'}\n",
      "0.681 (+/-0.151) for {'C': 25, 'decision_function_shape': 'ovr', 'degree': 1, 'gamma': 0.1, 'kernel': 'poly'}\n",
      "0.713 (+/-0.109) for {'C': 25, 'decision_function_shape': 'ovr', 'degree': 2, 'gamma': 5, 'kernel': 'poly'}\n",
      "0.713 (+/-0.109) for {'C': 25, 'decision_function_shape': 'ovr', 'degree': 2, 'gamma': 4, 'kernel': 'poly'}\n",
      "0.713 (+/-0.109) for {'C': 25, 'decision_function_shape': 'ovr', 'degree': 2, 'gamma': 3, 'kernel': 'poly'}\n",
      "0.713 (+/-0.109) for {'C': 25, 'decision_function_shape': 'ovr', 'degree': 2, 'gamma': 2, 'kernel': 'poly'}\n",
      "0.713 (+/-0.109) for {'C': 25, 'decision_function_shape': 'ovr', 'degree': 2, 'gamma': 1, 'kernel': 'poly'}\n",
      "0.713 (+/-0.109) for {'C': 25, 'decision_function_shape': 'ovr', 'degree': 2, 'gamma': 0.1, 'kernel': 'poly'}\n",
      "0.640 (+/-0.162) for {'C': 25, 'decision_function_shape': 'ovr', 'degree': 3, 'gamma': 5, 'kernel': 'poly'}\n",
      "0.640 (+/-0.162) for {'C': 25, 'decision_function_shape': 'ovr', 'degree': 3, 'gamma': 4, 'kernel': 'poly'}\n",
      "0.640 (+/-0.162) for {'C': 25, 'decision_function_shape': 'ovr', 'degree': 3, 'gamma': 3, 'kernel': 'poly'}\n",
      "0.640 (+/-0.162) for {'C': 25, 'decision_function_shape': 'ovr', 'degree': 3, 'gamma': 2, 'kernel': 'poly'}\n",
      "0.640 (+/-0.162) for {'C': 25, 'decision_function_shape': 'ovr', 'degree': 3, 'gamma': 1, 'kernel': 'poly'}\n",
      "0.640 (+/-0.162) for {'C': 25, 'decision_function_shape': 'ovr', 'degree': 3, 'gamma': 0.1, 'kernel': 'poly'}\n",
      "0.681 (+/-0.151) for {'C': 100, 'decision_function_shape': 'ovr', 'degree': 1, 'gamma': 5, 'kernel': 'poly'}\n",
      "0.681 (+/-0.151) for {'C': 100, 'decision_function_shape': 'ovr', 'degree': 1, 'gamma': 4, 'kernel': 'poly'}\n",
      "0.681 (+/-0.151) for {'C': 100, 'decision_function_shape': 'ovr', 'degree': 1, 'gamma': 3, 'kernel': 'poly'}\n",
      "0.681 (+/-0.151) for {'C': 100, 'decision_function_shape': 'ovr', 'degree': 1, 'gamma': 2, 'kernel': 'poly'}\n",
      "0.681 (+/-0.151) for {'C': 100, 'decision_function_shape': 'ovr', 'degree': 1, 'gamma': 1, 'kernel': 'poly'}\n",
      "0.681 (+/-0.151) for {'C': 100, 'decision_function_shape': 'ovr', 'degree': 1, 'gamma': 0.1, 'kernel': 'poly'}\n",
      "0.713 (+/-0.109) for {'C': 100, 'decision_function_shape': 'ovr', 'degree': 2, 'gamma': 5, 'kernel': 'poly'}\n",
      "0.713 (+/-0.109) for {'C': 100, 'decision_function_shape': 'ovr', 'degree': 2, 'gamma': 4, 'kernel': 'poly'}\n",
      "0.713 (+/-0.109) for {'C': 100, 'decision_function_shape': 'ovr', 'degree': 2, 'gamma': 3, 'kernel': 'poly'}\n",
      "0.713 (+/-0.109) for {'C': 100, 'decision_function_shape': 'ovr', 'degree': 2, 'gamma': 2, 'kernel': 'poly'}\n",
      "0.713 (+/-0.109) for {'C': 100, 'decision_function_shape': 'ovr', 'degree': 2, 'gamma': 1, 'kernel': 'poly'}\n",
      "0.713 (+/-0.109) for {'C': 100, 'decision_function_shape': 'ovr', 'degree': 2, 'gamma': 0.1, 'kernel': 'poly'}\n",
      "0.640 (+/-0.162) for {'C': 100, 'decision_function_shape': 'ovr', 'degree': 3, 'gamma': 5, 'kernel': 'poly'}\n",
      "0.640 (+/-0.162) for {'C': 100, 'decision_function_shape': 'ovr', 'degree': 3, 'gamma': 4, 'kernel': 'poly'}\n",
      "0.640 (+/-0.162) for {'C': 100, 'decision_function_shape': 'ovr', 'degree': 3, 'gamma': 3, 'kernel': 'poly'}\n",
      "0.640 (+/-0.162) for {'C': 100, 'decision_function_shape': 'ovr', 'degree': 3, 'gamma': 2, 'kernel': 'poly'}\n",
      "0.640 (+/-0.162) for {'C': 100, 'decision_function_shape': 'ovr', 'degree': 3, 'gamma': 1, 'kernel': 'poly'}\n",
      "0.640 (+/-0.162) for {'C': 100, 'decision_function_shape': 'ovr', 'degree': 3, 'gamma': 0.1, 'kernel': 'poly'}\n",
      "\n",
      "Detailed classification report:\n",
      "\n",
      "The model is trained on the full development set.\n",
      "The scores are computed on the full evaluation set.\n",
      "\n",
      "              precision    recall  f1-score   support\n",
      "\n",
      "         0.0       0.79      0.68      0.73        22\n",
      "         1.0       0.71      0.81      0.76        21\n",
      "\n",
      "    accuracy                           0.74        43\n",
      "   macro avg       0.75      0.75      0.74        43\n",
      "weighted avg       0.75      0.74      0.74        43\n",
      "\n",
      "\n",
      "0.7436314363143632\n"
     ]
    }
   ],
   "source": [
    "tuned_parameters_3 = [ {'C': [0.01, 0.1, 1, 10, 25, 100], 'kernel': ['poly'], 'decision_function_shape': ['ovr'], 'degree': [1,2,3],'gamma': [5, 4, 3, 2, 1, 1e-1] },]\n",
    "polyKernel_param=evaluation_SVM(tuned_parameters_3,X_train, y_train, X_test, y_test)"
   ]
  },
  {
   "cell_type": "markdown",
   "metadata": {},
   "source": [
    "##### Using the best polynomial kernel"
   ]
  },
  {
   "cell_type": "code",
   "execution_count": 54,
   "metadata": {},
   "outputs": [
    {
     "data": {
      "text/plain": [
       "SVC(C=0.01, break_ties=False, cache_size=200, class_weight=None, coef0=0.0,\n",
       "    decision_function_shape='ovr', degree=1, gamma=1, kernel='poly',\n",
       "    max_iter=-1, probability=False, random_state=None, shrinking=True,\n",
       "    tol=0.001, verbose=False)"
      ]
     },
     "execution_count": 54,
     "metadata": {},
     "output_type": "execute_result"
    }
   ],
   "source": [
    "rbfKernel_param = {'C': 0.01, 'decision_function_shape': 'ovr', 'degree': 1, 'gamma': 1, 'kernel': 'poly'}\n",
    "best_gaussian_model = SVC(**rbfKernel_param)\n",
    "best_gaussian_model.fit(X_train, y_train)\n"
   ]
  },
  {
   "cell_type": "markdown",
   "metadata": {},
   "source": [
    "##### Storing classifier"
   ]
  },
  {
   "cell_type": "code",
   "execution_count": 55,
   "metadata": {},
   "outputs": [
    {
     "data": {
      "text/plain": [
       "['Cough_NoCough_classifier.joblib']"
      ]
     },
     "execution_count": 55,
     "metadata": {},
     "output_type": "execute_result"
    }
   ],
   "source": [
    "import joblib\n",
    "joblib.dump(best_gaussian_model, 'Cough_NoCough_classifier.joblib')"
   ]
  },
  {
   "cell_type": "code",
   "execution_count": 59,
   "metadata": {},
   "outputs": [
    {
     "name": "stdout",
     "output_type": "stream",
     "text": [
      "0.8297872340425532\n"
     ]
    }
   ],
   "source": [
    "from joblib import dump, load\n",
    "\n",
    "cough_classifier = load('Cough_NoCough_classifier.joblib')\n",
    "#prediction = cough_classifier.predict(features)  # coughs=0 , no_cough = 1\n",
    "result = cough_classifier.score(data_scaled, labels)\n",
    "print(result)"
   ]
  },
  {
   "cell_type": "code",
   "execution_count": 58,
   "metadata": {},
   "outputs": [
    {
     "name": "stdout",
     "output_type": "stream",
     "text": [
      "[[-1.10970786 -0.07338572 -0.15404643 ...  0.32493751 -0.40671435\n",
      "   0.47632032]\n",
      " [ 0.05645245 -0.44531446  0.02247832 ...  1.05617365 -0.02566576\n",
      "   0.63966343]\n",
      " [-0.92171018 -0.47249996  0.61561071 ... -0.95597238 -0.22249436\n",
      "  -0.95614517]\n",
      " ...\n",
      " [ 0.19142631 -0.43379442  0.30333896 ... -0.69696255  1.29340153\n",
      "  -0.92307332]\n",
      " [-0.80865551  0.70850818 -0.32631908 ...  0.83034569 -0.54121925\n",
      "   0.45207825]\n",
      " [ 0.1504119  -0.52399394 -0.11706156 ...  0.30240873 -0.25701388\n",
      "   0.11507386]]\n"
     ]
    }
   ],
   "source": []
  },
  {
   "cell_type": "code",
   "execution_count": null,
   "metadata": {},
   "outputs": [],
   "source": []
  }
 ],
 "metadata": {
  "kernelspec": {
   "display_name": "Python 3",
   "language": "python",
   "name": "python3"
  },
  "language_info": {
   "codemirror_mode": {
    "name": "ipython",
    "version": 3
   },
   "file_extension": ".py",
   "mimetype": "text/x-python",
   "name": "python",
   "nbconvert_exporter": "python",
   "pygments_lexer": "ipython3",
   "version": "3.7.7"
  }
 },
 "nbformat": 4,
 "nbformat_minor": 4
}
