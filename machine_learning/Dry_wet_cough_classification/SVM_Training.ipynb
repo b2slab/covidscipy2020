{
 "cells": [
  {
   "cell_type": "markdown",
   "metadata": {},
   "source": [
    "# Copied from:\n",
    "#### This script is for training an SVM in order to classify between *dry* and *wet* coughs\n",
    "Author: Matthias Bittner\n",
    "\n",
    "e-mail: matthias.bittner1@gmx.at\n",
    "\n",
    "Features are read from a  csv and then used for training"
   ]
  },
  {
   "cell_type": "code",
   "execution_count": 1,
   "metadata": {},
   "outputs": [],
   "source": [
    "import numpy as np\n",
    "import pandas as pd\n",
    "from sklearn import preprocessing"
   ]
  },
  {
   "cell_type": "markdown",
   "metadata": {},
   "source": [
    "##### Loading extracted features from audiofiles"
   ]
  },
  {
   "cell_type": "code",
   "execution_count": 2,
   "metadata": {},
   "outputs": [
    {
     "name": "stdout",
     "output_type": "stream",
     "text": [
      "['zcr_mean' 'energy_mean' 'energy_entropy_mean' 'spectral_centroid_mean'\n",
      " 'spectral_spread_mean' 'spectral_entropy_mean' 'spectral_flux_mean'\n",
      " 'spectral_rolloff_mean' 'mfcc_1_mean' 'mfcc_2_mean' 'mfcc_3_mean'\n",
      " 'mfcc_4_mean' 'mfcc_5_mean' 'mfcc_6_mean' 'mfcc_7_mean' 'mfcc_8_mean'\n",
      " 'mfcc_9_mean' 'mfcc_10_mean' 'mfcc_11_mean' 'mfcc_12_mean' 'mfcc_13_mean'\n",
      " 'chroma_1_mean' 'chroma_2_mean' 'chroma_3_mean' 'chroma_4_mean'\n",
      " 'chroma_5_mean' 'chroma_6_mean' 'chroma_7_mean' 'chroma_8_mean'\n",
      " 'chroma_9_mean' 'chroma_10_mean' 'chroma_11_mean' 'chroma_12_mean'\n",
      " 'chroma_std_mean' 'delta zcr_mean' 'delta energy_mean'\n",
      " 'delta energy_entropy_mean' 'delta spectral_centroid_mean'\n",
      " 'delta spectral_spread_mean' 'delta spectral_entropy_mean'\n",
      " 'delta spectral_flux_mean' 'delta spectral_rolloff_mean'\n",
      " 'delta mfcc_1_mean' 'delta mfcc_2_mean' 'delta mfcc_3_mean'\n",
      " 'delta mfcc_4_mean' 'delta mfcc_5_mean' 'delta mfcc_6_mean'\n",
      " 'delta mfcc_7_mean' 'delta mfcc_8_mean' 'delta mfcc_9_mean'\n",
      " 'delta mfcc_10_mean' 'delta mfcc_11_mean' 'delta mfcc_12_mean'\n",
      " 'delta mfcc_13_mean' 'delta chroma_1_mean' 'delta chroma_2_mean'\n",
      " 'delta chroma_3_mean' 'delta chroma_4_mean' 'delta chroma_5_mean'\n",
      " 'delta chroma_6_mean' 'delta chroma_7_mean' 'delta chroma_8_mean'\n",
      " 'delta chroma_9_mean' 'delta chroma_10_mean' 'delta chroma_11_mean'\n",
      " 'delta chroma_12_mean' 'delta chroma_std_mean' 'zcr_std' 'energy_std'\n",
      " 'energy_entropy_std' 'spectral_centroid_std' 'spectral_spread_std'\n",
      " 'spectral_entropy_std' 'spectral_flux_std' 'spectral_rolloff_std'\n",
      " 'mfcc_1_std' 'mfcc_2_std' 'mfcc_3_std' 'mfcc_4_std' 'mfcc_5_std'\n",
      " 'mfcc_6_std' 'mfcc_7_std' 'mfcc_8_std' 'mfcc_9_std' 'mfcc_10_std'\n",
      " 'mfcc_11_std' 'mfcc_12_std' 'mfcc_13_std' 'chroma_1_std' 'chroma_2_std'\n",
      " 'chroma_3_std' 'chroma_4_std' 'chroma_5_std' 'chroma_6_std'\n",
      " 'chroma_7_std' 'chroma_8_std' 'chroma_9_std' 'chroma_10_std'\n",
      " 'chroma_11_std' 'chroma_12_std' 'chroma_std_std' 'delta zcr_std'\n",
      " 'delta energy_std' 'delta energy_entropy_std'\n",
      " 'delta spectral_centroid_std' 'delta spectral_spread_std'\n",
      " 'delta spectral_entropy_std' 'delta spectral_flux_std'\n",
      " 'delta spectral_rolloff_std' 'delta mfcc_1_std' 'delta mfcc_2_std'\n",
      " 'delta mfcc_3_std' 'delta mfcc_4_std' 'delta mfcc_5_std'\n",
      " 'delta mfcc_6_std' 'delta mfcc_7_std' 'delta mfcc_8_std'\n",
      " 'delta mfcc_9_std' 'delta mfcc_10_std' 'delta mfcc_11_std'\n",
      " 'delta mfcc_12_std' 'delta mfcc_13_std' 'delta chroma_1_std'\n",
      " 'delta chroma_2_std' 'delta chroma_3_std' 'delta chroma_4_std'\n",
      " 'delta chroma_5_std' 'delta chroma_6_std' 'delta chroma_7_std'\n",
      " 'delta chroma_8_std' 'delta chroma_9_std' 'delta chroma_10_std'\n",
      " 'delta chroma_11_std' 'delta chroma_12_std' 'delta chroma_std_std']\n"
     ]
    }
   ],
   "source": [
    "df = pd.read_csv('./trimmed_cough_data/features.csv')\n",
    "mid_feature_names = df.columns.values[0:-1]\n",
    "data = df.to_numpy()\n",
    "features = data[:, 0:-1]\n",
    "labels = data[:, -1]\n",
    "print(mid_feature_names)\n",
    "#print(labels)"
   ]
  },
  {
   "cell_type": "markdown",
   "metadata": {},
   "source": [
    "#### Preprocessing Data - Normalization"
   ]
  },
  {
   "cell_type": "code",
   "execution_count": 3,
   "metadata": {},
   "outputs": [],
   "source": [
    "data_scaled = preprocessing.StandardScaler().fit_transform(features)"
   ]
  },
  {
   "cell_type": "markdown",
   "metadata": {},
   "source": [
    "##### Analyzing Feature Space\n",
    "\n",
    "With the 'ind' list one can have a look the different features and how good they seem to be seperated.\n",
    "In this case the two features energy and delta_energy have been choosen. It seems to be that sneezing produces a constant energy level, while coughing does not."
   ]
  },
  {
   "cell_type": "code",
   "execution_count": 4,
   "metadata": {},
   "outputs": [
    {
     "name": "stdout",
     "output_type": "stream",
     "text": [
      "     energy_mean  delta energy_std align\n",
      "0      -0.507243         -0.522109   dry\n",
      "1      -0.160468         -0.154856   dry\n",
      "2      -0.180217         -0.358150   dry\n",
      "3      -0.256876         -0.448379   dry\n",
      "4      -0.419366         -0.559971   dry\n",
      "..           ...               ...   ...\n",
      "121    -0.574914         -0.665241   wet\n",
      "122    -0.463175         -0.385522   wet\n",
      "123    -0.566541         -0.588452   wet\n",
      "124    -0.626411         -0.930458   wet\n",
      "125    -0.365035         -0.574900   wet\n",
      "\n",
      "[126 rows x 3 columns]\n"
     ]
    },
    {
     "data": {
      "image/png": "[encoded data removed]",
      "text/plain": [
       "<Figure size 414.125x360 with 6 Axes>"
      ]
     },
     "metadata": {
      "needs_background": "light"
     },
     "output_type": "display_data"
    }
   ],
   "source": [
    "import seaborn as sns\n",
    "import pandas as pd\n",
    "import matplotlib.pyplot as plt\n",
    "#ind = [1,68]\n",
    "#ind = [1,35]\n",
    "ind = [1,103]\n",
    "#ind = [69,103]\n",
    "feature_names = mid_feature_names[ind]\n",
    "Cough_df_red = pd.DataFrame(data_scaled[:,ind], columns = feature_names )\n",
    "Cough_df_red[\"align\"] = pd.Series(labels).apply(lambda x: \"wet\" if x==1 else \"dry\")\n",
    "print(Cough_df_red)\n",
    "g = sns.pairplot(Cough_df_red, hue=\"align\")\n",
    "plt.show()\n",
    "\n",
    "\n"
   ]
  },
  {
   "cell_type": "markdown",
   "metadata": {},
   "source": [
    "### PCA to check how much redundant information is stored in the features.\n"
   ]
  },
  {
   "cell_type": "code",
   "execution_count": 6,
   "metadata": {},
   "outputs": [
    {
     "name": "stdout",
     "output_type": "stream",
     "text": [
      "Explained variability\n",
      "[ 16.78097041  25.22870077  32.05229924  37.82327995  42.66763788\n",
      "  46.69875528  49.88042256  52.96396762  55.55945299  57.98783344\n",
      "  60.28718486  62.50894414  64.53251166  66.42364715  68.20877295\n",
      "  69.87574364  71.41759658  72.88308129  74.27513226  75.62618272\n",
      "  76.87413019  78.09585547  79.23746465  80.27585478  81.29324281\n",
      "  82.26606692  83.20477736  84.07738905  84.93078226  85.74623389\n",
      "  86.53008827  87.22568658  87.90455244  88.55969562  89.20122446\n",
      "  89.79822203  90.35418292  90.88745939  91.38352297  91.83129492\n",
      "  92.25432429  92.66906252  93.06139911  93.45084186  93.80812511\n",
      "  94.1618775   94.49762087  94.82415465  95.12155784  95.41522083\n",
      "  95.69254688  95.94978193  96.20385325  96.44380392  96.66834706\n",
      "  96.87940123  97.07828247  97.2690927   97.45339192  97.60534844\n",
      "  97.75615244  97.89663916  98.02969096  98.16048517  98.2829221\n",
      "  98.39784309  98.5052179   98.60489269  98.69894479  98.78680269\n",
      "  98.87217403  98.94977018  99.02302008  99.09436973  99.16171666\n",
      "  99.22579497  99.28144181  99.33106055  99.37951886  99.42477148\n",
      "  99.46860692  99.50969964  99.54881442  99.58526223  99.62089717\n",
      "  99.65108062  99.67920649  99.70578459  99.73118036  99.7551563\n",
      "  99.77736695  99.79809978  99.81736648  99.83483893  99.85153948\n",
      "  99.8670388   99.88015983  99.89302116  99.90548261  99.91656714\n",
      "  99.92653638  99.93539016  99.9431431   99.95075262  99.95740853\n",
      "  99.96312356  99.96795698  99.97270884  99.97669449  99.98033627\n",
      "  99.983618    99.98647432  99.98899154  99.99107859  99.9928535\n",
      "  99.99436965  99.99560019  99.99669234  99.99758584  99.99819188\n",
      "  99.99872252  99.99920031  99.99954567  99.99979321 100.\n",
      " 100.        ]\n",
      "            0         1 align\n",
      "0    0.478369  1.180620   dry\n",
      "1    6.184142 -4.033305   dry\n",
      "2   -0.380462 -0.678992   dry\n",
      "3   -1.385360  2.027677   dry\n",
      "4   -2.093988  1.871526   dry\n",
      "..        ...       ...   ...\n",
      "121 -2.935918 -3.375933   wet\n",
      "122 -2.618205 -4.830958   wet\n",
      "123 -3.900909 -2.164475   wet\n",
      "124 -4.903412 -0.195936   wet\n",
      "125 -3.706501  0.585937   wet\n",
      "\n",
      "[126 rows x 3 columns]\n"
     ]
    },
    {
     "data": {
      "image/png": "[encoded data removed]",
      "text/plain": [
       "<Figure size 414.125x360 with 6 Axes>"
      ]
     },
     "metadata": {
      "needs_background": "light"
     },
     "output_type": "display_data"
    }
   ],
   "source": [
    "from sklearn import decomposition\n",
    "#PCA decomposition to eliminate the irrelevant features\n",
    "print(\"Explained variability\")\n",
    "pca = decomposition.PCA(whiten=False).fit(data_scaled) \n",
    "print(100*pca.explained_variance_ratio_.cumsum())\n",
    "\n",
    "data_reduced = decomposition.PCA(n_components=2,whiten=False).fit_transform(data_scaled) \n",
    "\n",
    "dry_df_pca = pd.DataFrame(data_reduced)\n",
    "dry_df_pca[\"align\"] = pd.Series(labels).apply(lambda x: \"wet\" if x==1 else \"dry\")\n",
    "print(dry_df_pca)\n",
    "g = sns.pairplot(dry_df_pca, hue=\"align\")\n",
    "plt.show()\n"
   ]
  },
  {
   "cell_type": "markdown",
   "metadata": {},
   "source": [
    "#### Splitting into Test Data and Train Data"
   ]
  },
  {
   "cell_type": "markdown",
   "metadata": {},
   "source": [
    "All the data_scaled  is used to train the SVM -> PCA just use to visualize"
   ]
  },
  {
   "cell_type": "code",
   "execution_count": 7,
   "metadata": {},
   "outputs": [],
   "source": [
    "from sklearn.model_selection import train_test_split\n",
    "\n",
    "X_train, X_test, y_train, y_test = train_test_split(data_scaled, labels, test_size=0.30, random_state=50, shuffle=True)"
   ]
  },
  {
   "cell_type": "markdown",
   "metadata": {},
   "source": [
    "SVM Training with Grid Search\n",
    "==========\n"
   ]
  },
  {
   "cell_type": "code",
   "execution_count": 8,
   "metadata": {},
   "outputs": [],
   "source": [
    "def evaluation_SVM(tuned_parameters,X_train, y_train, X_test, y_test):\n",
    "    scores = ['f1']\n",
    "    for score in scores:\n",
    "        print(\"# Tuning hyper-parameters for %s\" % score)\n",
    "        print()\n",
    "\n",
    "        clf = GridSearchCV(\n",
    "            SVC(), tuned_parameters, scoring='%s_macro' % score,cv=3, n_jobs=-1\n",
    "        )\n",
    "        clf.fit(X_train, y_train)\n",
    "\n",
    "        print(\"Best parameters set found on development set:\")\n",
    "        print()\n",
    "        print(clf.best_params_)\n",
    "        print()\n",
    "        print(\"Grid scores on development set:\")\n",
    "        print()\n",
    "        means = clf.cv_results_['mean_test_score']\n",
    "        stds = clf.cv_results_['std_test_score']\n",
    "        for mean, std, params in zip(means, stds, clf.cv_results_['params']):\n",
    "            print(\"%0.3f (+/-%0.03f) for %r\"\n",
    "                  % (mean, std * 2, params))\n",
    "        print()\n",
    "\n",
    "        print(\"Detailed classification report:\")\n",
    "        print()\n",
    "        print(\"The model is trained on the full development set.\")\n",
    "        print(\"The scores are computed on the full evaluation set.\")\n",
    "        print()\n",
    "        y_true, y_pred = y_test, clf.predict(X_test)\n",
    "        print(classification_report(y_true, y_pred))\n",
    "        print()\n",
    "        print(clf.score(X_test,y_test))\n",
    "    return clf.best_params_"
   ]
  },
  {
   "cell_type": "markdown",
   "metadata": {},
   "source": [
    "#### Libraries for SVM\n"
   ]
  },
  {
   "cell_type": "code",
   "execution_count": 9,
   "metadata": {},
   "outputs": [],
   "source": [
    "from sklearn import preprocessing\n",
    "from sklearn.neural_network import MLPClassifier\n",
    "from sklearn.impute import SimpleImputer\n",
    "from sklearn.metrics import accuracy_score\n",
    "from sklearn import datasets\n",
    "from sklearn.model_selection import train_test_split\n",
    "from sklearn.model_selection import GridSearchCV\n",
    "from sklearn.metrics import classification_report\n",
    "from sklearn.svm import SVC\n",
    "from sklearn import svm\n",
    "from sklearn.model_selection import cross_val_score\n",
    "import matplotlib.pyplot as plt\n",
    "from sklearn.datasets import load_digits\n",
    "from sklearn.model_selection import learning_curve\n",
    "from sklearn import decomposition\n",
    "from sklearn.model_selection import ShuffleSplit\n"
   ]
  },
  {
   "cell_type": "markdown",
   "metadata": {},
   "source": [
    "#### Radial bases function kernel/Gaussian kernel\n"
   ]
  },
  {
   "cell_type": "code",
   "execution_count": 10,
   "metadata": {},
   "outputs": [
    {
     "name": "stdout",
     "output_type": "stream",
     "text": [
      "# Tuning hyper-parameters for f1\n",
      "\n",
      "Best parameters set found on development set:\n",
      "\n",
      "{'C': 50, 'decision_function_shape': 'ovr', 'gamma': 0.0001, 'kernel': 'rbf'}\n",
      "\n",
      "Grid scores on development set:\n",
      "\n",
      "0.362 (+/-0.002) for {'C': 0.001, 'decision_function_shape': 'ovr', 'gamma': 3, 'kernel': 'rbf'}\n",
      "0.362 (+/-0.002) for {'C': 0.001, 'decision_function_shape': 'ovr', 'gamma': 2, 'kernel': 'rbf'}\n",
      "0.362 (+/-0.002) for {'C': 0.001, 'decision_function_shape': 'ovr', 'gamma': 1, 'kernel': 'rbf'}\n",
      "0.362 (+/-0.002) for {'C': 0.001, 'decision_function_shape': 'ovr', 'gamma': 0.1, 'kernel': 'rbf'}\n",
      "0.362 (+/-0.002) for {'C': 0.001, 'decision_function_shape': 'ovr', 'gamma': 0.001, 'kernel': 'rbf'}\n",
      "0.362 (+/-0.002) for {'C': 0.001, 'decision_function_shape': 'ovr', 'gamma': 0.0001, 'kernel': 'rbf'}\n",
      "0.362 (+/-0.002) for {'C': 0.001, 'decision_function_shape': 'ovr', 'gamma': 1e-05, 'kernel': 'rbf'}\n",
      "0.362 (+/-0.002) for {'C': 0.01, 'decision_function_shape': 'ovr', 'gamma': 3, 'kernel': 'rbf'}\n",
      "0.362 (+/-0.002) for {'C': 0.01, 'decision_function_shape': 'ovr', 'gamma': 2, 'kernel': 'rbf'}\n",
      "0.362 (+/-0.002) for {'C': 0.01, 'decision_function_shape': 'ovr', 'gamma': 1, 'kernel': 'rbf'}\n",
      "0.362 (+/-0.002) for {'C': 0.01, 'decision_function_shape': 'ovr', 'gamma': 0.1, 'kernel': 'rbf'}\n",
      "0.362 (+/-0.002) for {'C': 0.01, 'decision_function_shape': 'ovr', 'gamma': 0.001, 'kernel': 'rbf'}\n",
      "0.362 (+/-0.002) for {'C': 0.01, 'decision_function_shape': 'ovr', 'gamma': 0.0001, 'kernel': 'rbf'}\n",
      "0.362 (+/-0.002) for {'C': 0.01, 'decision_function_shape': 'ovr', 'gamma': 1e-05, 'kernel': 'rbf'}\n",
      "0.362 (+/-0.002) for {'C': 0.1, 'decision_function_shape': 'ovr', 'gamma': 3, 'kernel': 'rbf'}\n",
      "0.362 (+/-0.002) for {'C': 0.1, 'decision_function_shape': 'ovr', 'gamma': 2, 'kernel': 'rbf'}\n",
      "0.362 (+/-0.002) for {'C': 0.1, 'decision_function_shape': 'ovr', 'gamma': 1, 'kernel': 'rbf'}\n",
      "0.362 (+/-0.002) for {'C': 0.1, 'decision_function_shape': 'ovr', 'gamma': 0.1, 'kernel': 'rbf'}\n",
      "0.362 (+/-0.002) for {'C': 0.1, 'decision_function_shape': 'ovr', 'gamma': 0.001, 'kernel': 'rbf'}\n",
      "0.362 (+/-0.002) for {'C': 0.1, 'decision_function_shape': 'ovr', 'gamma': 0.0001, 'kernel': 'rbf'}\n",
      "0.362 (+/-0.002) for {'C': 0.1, 'decision_function_shape': 'ovr', 'gamma': 1e-05, 'kernel': 'rbf'}\n",
      "0.362 (+/-0.002) for {'C': 1, 'decision_function_shape': 'ovr', 'gamma': 3, 'kernel': 'rbf'}\n",
      "0.362 (+/-0.002) for {'C': 1, 'decision_function_shape': 'ovr', 'gamma': 2, 'kernel': 'rbf'}\n",
      "0.362 (+/-0.002) for {'C': 1, 'decision_function_shape': 'ovr', 'gamma': 1, 'kernel': 'rbf'}\n",
      "0.362 (+/-0.002) for {'C': 1, 'decision_function_shape': 'ovr', 'gamma': 0.1, 'kernel': 'rbf'}\n",
      "0.362 (+/-0.002) for {'C': 1, 'decision_function_shape': 'ovr', 'gamma': 0.001, 'kernel': 'rbf'}\n",
      "0.362 (+/-0.002) for {'C': 1, 'decision_function_shape': 'ovr', 'gamma': 0.0001, 'kernel': 'rbf'}\n",
      "0.362 (+/-0.002) for {'C': 1, 'decision_function_shape': 'ovr', 'gamma': 1e-05, 'kernel': 'rbf'}\n",
      "0.362 (+/-0.002) for {'C': 5, 'decision_function_shape': 'ovr', 'gamma': 3, 'kernel': 'rbf'}\n",
      "0.362 (+/-0.002) for {'C': 5, 'decision_function_shape': 'ovr', 'gamma': 2, 'kernel': 'rbf'}\n",
      "0.362 (+/-0.002) for {'C': 5, 'decision_function_shape': 'ovr', 'gamma': 1, 'kernel': 'rbf'}\n",
      "0.362 (+/-0.002) for {'C': 5, 'decision_function_shape': 'ovr', 'gamma': 0.1, 'kernel': 'rbf'}\n",
      "0.540 (+/-0.116) for {'C': 5, 'decision_function_shape': 'ovr', 'gamma': 0.001, 'kernel': 'rbf'}\n",
      "0.362 (+/-0.002) for {'C': 5, 'decision_function_shape': 'ovr', 'gamma': 0.0001, 'kernel': 'rbf'}\n",
      "0.362 (+/-0.002) for {'C': 5, 'decision_function_shape': 'ovr', 'gamma': 1e-05, 'kernel': 'rbf'}\n",
      "0.362 (+/-0.002) for {'C': 10, 'decision_function_shape': 'ovr', 'gamma': 3, 'kernel': 'rbf'}\n",
      "0.362 (+/-0.002) for {'C': 10, 'decision_function_shape': 'ovr', 'gamma': 2, 'kernel': 'rbf'}\n",
      "0.362 (+/-0.002) for {'C': 10, 'decision_function_shape': 'ovr', 'gamma': 1, 'kernel': 'rbf'}\n",
      "0.362 (+/-0.002) for {'C': 10, 'decision_function_shape': 'ovr', 'gamma': 0.1, 'kernel': 'rbf'}\n",
      "0.526 (+/-0.182) for {'C': 10, 'decision_function_shape': 'ovr', 'gamma': 0.001, 'kernel': 'rbf'}\n",
      "0.398 (+/-0.098) for {'C': 10, 'decision_function_shape': 'ovr', 'gamma': 0.0001, 'kernel': 'rbf'}\n",
      "0.362 (+/-0.002) for {'C': 10, 'decision_function_shape': 'ovr', 'gamma': 1e-05, 'kernel': 'rbf'}\n",
      "0.362 (+/-0.002) for {'C': 25, 'decision_function_shape': 'ovr', 'gamma': 3, 'kernel': 'rbf'}\n",
      "0.362 (+/-0.002) for {'C': 25, 'decision_function_shape': 'ovr', 'gamma': 2, 'kernel': 'rbf'}\n",
      "0.362 (+/-0.002) for {'C': 25, 'decision_function_shape': 'ovr', 'gamma': 1, 'kernel': 'rbf'}\n",
      "0.362 (+/-0.002) for {'C': 25, 'decision_function_shape': 'ovr', 'gamma': 0.1, 'kernel': 'rbf'}\n",
      "0.553 (+/-0.135) for {'C': 25, 'decision_function_shape': 'ovr', 'gamma': 0.001, 'kernel': 'rbf'}\n",
      "0.537 (+/-0.184) for {'C': 25, 'decision_function_shape': 'ovr', 'gamma': 0.0001, 'kernel': 'rbf'}\n",
      "0.362 (+/-0.002) for {'C': 25, 'decision_function_shape': 'ovr', 'gamma': 1e-05, 'kernel': 'rbf'}\n",
      "0.362 (+/-0.002) for {'C': 50, 'decision_function_shape': 'ovr', 'gamma': 3, 'kernel': 'rbf'}\n",
      "0.362 (+/-0.002) for {'C': 50, 'decision_function_shape': 'ovr', 'gamma': 2, 'kernel': 'rbf'}\n",
      "0.362 (+/-0.002) for {'C': 50, 'decision_function_shape': 'ovr', 'gamma': 1, 'kernel': 'rbf'}\n",
      "0.362 (+/-0.002) for {'C': 50, 'decision_function_shape': 'ovr', 'gamma': 0.1, 'kernel': 'rbf'}\n",
      "0.565 (+/-0.117) for {'C': 50, 'decision_function_shape': 'ovr', 'gamma': 0.001, 'kernel': 'rbf'}\n",
      "0.586 (+/-0.111) for {'C': 50, 'decision_function_shape': 'ovr', 'gamma': 0.0001, 'kernel': 'rbf'}\n",
      "0.362 (+/-0.002) for {'C': 50, 'decision_function_shape': 'ovr', 'gamma': 1e-05, 'kernel': 'rbf'}\n",
      "0.362 (+/-0.002) for {'C': 75, 'decision_function_shape': 'ovr', 'gamma': 3, 'kernel': 'rbf'}\n",
      "0.362 (+/-0.002) for {'C': 75, 'decision_function_shape': 'ovr', 'gamma': 2, 'kernel': 'rbf'}\n",
      "0.362 (+/-0.002) for {'C': 75, 'decision_function_shape': 'ovr', 'gamma': 1, 'kernel': 'rbf'}\n",
      "0.362 (+/-0.002) for {'C': 75, 'decision_function_shape': 'ovr', 'gamma': 0.1, 'kernel': 'rbf'}\n",
      "0.565 (+/-0.117) for {'C': 75, 'decision_function_shape': 'ovr', 'gamma': 0.001, 'kernel': 'rbf'}\n",
      "0.537 (+/-0.117) for {'C': 75, 'decision_function_shape': 'ovr', 'gamma': 0.0001, 'kernel': 'rbf'}\n",
      "0.362 (+/-0.002) for {'C': 75, 'decision_function_shape': 'ovr', 'gamma': 1e-05, 'kernel': 'rbf'}\n",
      "0.362 (+/-0.002) for {'C': 100, 'decision_function_shape': 'ovr', 'gamma': 3, 'kernel': 'rbf'}\n",
      "0.362 (+/-0.002) for {'C': 100, 'decision_function_shape': 'ovr', 'gamma': 2, 'kernel': 'rbf'}\n",
      "0.362 (+/-0.002) for {'C': 100, 'decision_function_shape': 'ovr', 'gamma': 1, 'kernel': 'rbf'}\n",
      "0.362 (+/-0.002) for {'C': 100, 'decision_function_shape': 'ovr', 'gamma': 0.1, 'kernel': 'rbf'}\n",
      "0.565 (+/-0.117) for {'C': 100, 'decision_function_shape': 'ovr', 'gamma': 0.001, 'kernel': 'rbf'}\n",
      "0.499 (+/-0.179) for {'C': 100, 'decision_function_shape': 'ovr', 'gamma': 0.0001, 'kernel': 'rbf'}\n",
      "0.398 (+/-0.098) for {'C': 100, 'decision_function_shape': 'ovr', 'gamma': 1e-05, 'kernel': 'rbf'}\n",
      "0.362 (+/-0.002) for {'C': 200, 'decision_function_shape': 'ovr', 'gamma': 3, 'kernel': 'rbf'}\n",
      "0.362 (+/-0.002) for {'C': 200, 'decision_function_shape': 'ovr', 'gamma': 2, 'kernel': 'rbf'}\n",
      "0.362 (+/-0.002) for {'C': 200, 'decision_function_shape': 'ovr', 'gamma': 1, 'kernel': 'rbf'}\n",
      "0.362 (+/-0.002) for {'C': 200, 'decision_function_shape': 'ovr', 'gamma': 0.1, 'kernel': 'rbf'}\n",
      "0.565 (+/-0.117) for {'C': 200, 'decision_function_shape': 'ovr', 'gamma': 0.001, 'kernel': 'rbf'}\n",
      "0.571 (+/-0.121) for {'C': 200, 'decision_function_shape': 'ovr', 'gamma': 0.0001, 'kernel': 'rbf'}\n",
      "0.562 (+/-0.177) for {'C': 200, 'decision_function_shape': 'ovr', 'gamma': 1e-05, 'kernel': 'rbf'}\n",
      "0.362 (+/-0.002) for {'C': 500, 'decision_function_shape': 'ovr', 'gamma': 3, 'kernel': 'rbf'}\n",
      "0.362 (+/-0.002) for {'C': 500, 'decision_function_shape': 'ovr', 'gamma': 2, 'kernel': 'rbf'}\n",
      "0.362 (+/-0.002) for {'C': 500, 'decision_function_shape': 'ovr', 'gamma': 1, 'kernel': 'rbf'}\n",
      "0.362 (+/-0.002) for {'C': 500, 'decision_function_shape': 'ovr', 'gamma': 0.1, 'kernel': 'rbf'}\n",
      "0.565 (+/-0.117) for {'C': 500, 'decision_function_shape': 'ovr', 'gamma': 0.001, 'kernel': 'rbf'}\n",
      "0.561 (+/-0.110) for {'C': 500, 'decision_function_shape': 'ovr', 'gamma': 0.0001, 'kernel': 'rbf'}\n",
      "0.586 (+/-0.111) for {'C': 500, 'decision_function_shape': 'ovr', 'gamma': 1e-05, 'kernel': 'rbf'}\n",
      "0.362 (+/-0.002) for {'C': 750, 'decision_function_shape': 'ovr', 'gamma': 3, 'kernel': 'rbf'}\n",
      "0.362 (+/-0.002) for {'C': 750, 'decision_function_shape': 'ovr', 'gamma': 2, 'kernel': 'rbf'}\n",
      "0.362 (+/-0.002) for {'C': 750, 'decision_function_shape': 'ovr', 'gamma': 1, 'kernel': 'rbf'}\n",
      "0.362 (+/-0.002) for {'C': 750, 'decision_function_shape': 'ovr', 'gamma': 0.1, 'kernel': 'rbf'}\n",
      "0.565 (+/-0.117) for {'C': 750, 'decision_function_shape': 'ovr', 'gamma': 0.001, 'kernel': 'rbf'}\n",
      "0.565 (+/-0.117) for {'C': 750, 'decision_function_shape': 'ovr', 'gamma': 0.0001, 'kernel': 'rbf'}\n",
      "0.529 (+/-0.142) for {'C': 750, 'decision_function_shape': 'ovr', 'gamma': 1e-05, 'kernel': 'rbf'}\n",
      "0.362 (+/-0.002) for {'C': 1000, 'decision_function_shape': 'ovr', 'gamma': 3, 'kernel': 'rbf'}\n",
      "0.362 (+/-0.002) for {'C': 1000, 'decision_function_shape': 'ovr', 'gamma': 2, 'kernel': 'rbf'}\n",
      "0.362 (+/-0.002) for {'C': 1000, 'decision_function_shape': 'ovr', 'gamma': 1, 'kernel': 'rbf'}\n",
      "0.362 (+/-0.002) for {'C': 1000, 'decision_function_shape': 'ovr', 'gamma': 0.1, 'kernel': 'rbf'}\n",
      "0.565 (+/-0.117) for {'C': 1000, 'decision_function_shape': 'ovr', 'gamma': 0.001, 'kernel': 'rbf'}\n",
      "0.565 (+/-0.117) for {'C': 1000, 'decision_function_shape': 'ovr', 'gamma': 0.0001, 'kernel': 'rbf'}\n",
      "0.499 (+/-0.179) for {'C': 1000, 'decision_function_shape': 'ovr', 'gamma': 1e-05, 'kernel': 'rbf'}\n",
      "0.362 (+/-0.002) for {'C': 2000, 'decision_function_shape': 'ovr', 'gamma': 3, 'kernel': 'rbf'}\n",
      "0.362 (+/-0.002) for {'C': 2000, 'decision_function_shape': 'ovr', 'gamma': 2, 'kernel': 'rbf'}\n",
      "0.362 (+/-0.002) for {'C': 2000, 'decision_function_shape': 'ovr', 'gamma': 1, 'kernel': 'rbf'}\n",
      "0.362 (+/-0.002) for {'C': 2000, 'decision_function_shape': 'ovr', 'gamma': 0.1, 'kernel': 'rbf'}\n",
      "0.565 (+/-0.117) for {'C': 2000, 'decision_function_shape': 'ovr', 'gamma': 0.001, 'kernel': 'rbf'}\n",
      "0.565 (+/-0.117) for {'C': 2000, 'decision_function_shape': 'ovr', 'gamma': 0.0001, 'kernel': 'rbf'}\n",
      "0.562 (+/-0.146) for {'C': 2000, 'decision_function_shape': 'ovr', 'gamma': 1e-05, 'kernel': 'rbf'}\n",
      "0.362 (+/-0.002) for {'C': 5000, 'decision_function_shape': 'ovr', 'gamma': 3, 'kernel': 'rbf'}\n",
      "0.362 (+/-0.002) for {'C': 5000, 'decision_function_shape': 'ovr', 'gamma': 2, 'kernel': 'rbf'}\n",
      "0.362 (+/-0.002) for {'C': 5000, 'decision_function_shape': 'ovr', 'gamma': 1, 'kernel': 'rbf'}\n",
      "0.362 (+/-0.002) for {'C': 5000, 'decision_function_shape': 'ovr', 'gamma': 0.1, 'kernel': 'rbf'}\n",
      "0.565 (+/-0.117) for {'C': 5000, 'decision_function_shape': 'ovr', 'gamma': 0.001, 'kernel': 'rbf'}\n",
      "0.565 (+/-0.117) for {'C': 5000, 'decision_function_shape': 'ovr', 'gamma': 0.0001, 'kernel': 'rbf'}\n",
      "0.553 (+/-0.135) for {'C': 5000, 'decision_function_shape': 'ovr', 'gamma': 1e-05, 'kernel': 'rbf'}\n",
      "0.362 (+/-0.002) for {'C': 7000, 'decision_function_shape': 'ovr', 'gamma': 3, 'kernel': 'rbf'}\n",
      "0.362 (+/-0.002) for {'C': 7000, 'decision_function_shape': 'ovr', 'gamma': 2, 'kernel': 'rbf'}\n",
      "0.362 (+/-0.002) for {'C': 7000, 'decision_function_shape': 'ovr', 'gamma': 1, 'kernel': 'rbf'}\n",
      "0.362 (+/-0.002) for {'C': 7000, 'decision_function_shape': 'ovr', 'gamma': 0.1, 'kernel': 'rbf'}\n",
      "0.565 (+/-0.117) for {'C': 7000, 'decision_function_shape': 'ovr', 'gamma': 0.001, 'kernel': 'rbf'}\n",
      "0.565 (+/-0.117) for {'C': 7000, 'decision_function_shape': 'ovr', 'gamma': 0.0001, 'kernel': 'rbf'}\n",
      "0.556 (+/-0.141) for {'C': 7000, 'decision_function_shape': 'ovr', 'gamma': 1e-05, 'kernel': 'rbf'}\n",
      "\n",
      "Detailed classification report:\n",
      "\n",
      "The model is trained on the full development set.\n",
      "The scores are computed on the full evaluation set.\n",
      "\n",
      "              precision    recall  f1-score   support\n",
      "\n",
      "         0.0       0.84      0.91      0.87        23\n",
      "         1.0       0.85      0.73      0.79        15\n",
      "\n",
      "    accuracy                           0.84        38\n",
      "   macro avg       0.84      0.82      0.83        38\n",
      "weighted avg       0.84      0.84      0.84        38\n",
      "\n",
      "\n",
      "0.8303571428571428\n"
     ]
    },
    {
     "name": "stderr",
     "output_type": "stream",
     "text": [
      "/home/andrine/anaconda3/lib/python3.7/site-packages/sklearn/model_selection/_search.py:814: DeprecationWarning: The default of the `iid` parameter will change from True to False in version 0.22 and will be removed in 0.24. This will change numeric results when test-set sizes are unequal.\n",
      "  DeprecationWarning)\n"
     ]
    }
   ],
   "source": [
    "from sklearn.model_selection import GridSearchCV\n",
    "tuned_parameters_2 = [{'C': [0.001, 0.01, 0.1, 1, 5, 10, 25, 50, 75, 100, 200, 500, 750, 1000, 2000, 5000, 7000], 'kernel': ['rbf'], 'decision_function_shape': ['ovr'], 'gamma': [3, 2, 1, 1e-1, 1e-3, 1e-4, 1e-5],},]\n",
    "rbfKernel_param=evaluation_SVM(tuned_parameters_2,X_train, y_train, X_test, y_test)"
   ]
  },
  {
   "cell_type": "markdown",
   "metadata": {},
   "source": [
    "###### Polynomial Kernel"
   ]
  },
  {
   "cell_type": "code",
   "execution_count": 11,
   "metadata": {},
   "outputs": [
    {
     "name": "stdout",
     "output_type": "stream",
     "text": [
      "# Tuning hyper-parameters for f1\n",
      "\n",
      "Best parameters set found on development set:\n",
      "\n",
      "{'C': 0.01, 'decision_function_shape': 'ovr', 'degree': 1, 'gamma': 1, 'kernel': 'poly'}\n",
      "\n",
      "Grid scores on development set:\n",
      "\n",
      "0.583 (+/-0.050) for {'C': 0.01, 'decision_function_shape': 'ovr', 'degree': 1, 'gamma': 5, 'kernel': 'poly'}\n",
      "0.572 (+/-0.161) for {'C': 0.01, 'decision_function_shape': 'ovr', 'degree': 1, 'gamma': 4, 'kernel': 'poly'}\n",
      "0.536 (+/-0.195) for {'C': 0.01, 'decision_function_shape': 'ovr', 'degree': 1, 'gamma': 3, 'kernel': 'poly'}\n",
      "0.499 (+/-0.179) for {'C': 0.01, 'decision_function_shape': 'ovr', 'degree': 1, 'gamma': 2, 'kernel': 'poly'}\n",
      "0.586 (+/-0.111) for {'C': 0.01, 'decision_function_shape': 'ovr', 'degree': 1, 'gamma': 1, 'kernel': 'poly'}\n",
      "0.362 (+/-0.002) for {'C': 0.01, 'decision_function_shape': 'ovr', 'degree': 1, 'gamma': 0.1, 'kernel': 'poly'}\n",
      "0.530 (+/-0.198) for {'C': 0.01, 'decision_function_shape': 'ovr', 'degree': 2, 'gamma': 5, 'kernel': 'poly'}\n",
      "0.530 (+/-0.198) for {'C': 0.01, 'decision_function_shape': 'ovr', 'degree': 2, 'gamma': 4, 'kernel': 'poly'}\n",
      "0.530 (+/-0.198) for {'C': 0.01, 'decision_function_shape': 'ovr', 'degree': 2, 'gamma': 3, 'kernel': 'poly'}\n",
      "0.530 (+/-0.198) for {'C': 0.01, 'decision_function_shape': 'ovr', 'degree': 2, 'gamma': 2, 'kernel': 'poly'}\n",
      "0.530 (+/-0.198) for {'C': 0.01, 'decision_function_shape': 'ovr', 'degree': 2, 'gamma': 1, 'kernel': 'poly'}\n",
      "0.562 (+/-0.140) for {'C': 0.01, 'decision_function_shape': 'ovr', 'degree': 2, 'gamma': 0.1, 'kernel': 'poly'}\n",
      "0.472 (+/-0.075) for {'C': 0.01, 'decision_function_shape': 'ovr', 'degree': 3, 'gamma': 5, 'kernel': 'poly'}\n",
      "0.472 (+/-0.075) for {'C': 0.01, 'decision_function_shape': 'ovr', 'degree': 3, 'gamma': 4, 'kernel': 'poly'}\n",
      "0.472 (+/-0.075) for {'C': 0.01, 'decision_function_shape': 'ovr', 'degree': 3, 'gamma': 3, 'kernel': 'poly'}\n",
      "0.472 (+/-0.075) for {'C': 0.01, 'decision_function_shape': 'ovr', 'degree': 3, 'gamma': 2, 'kernel': 'poly'}\n",
      "0.472 (+/-0.075) for {'C': 0.01, 'decision_function_shape': 'ovr', 'degree': 3, 'gamma': 1, 'kernel': 'poly'}\n",
      "0.472 (+/-0.075) for {'C': 0.01, 'decision_function_shape': 'ovr', 'degree': 3, 'gamma': 0.1, 'kernel': 'poly'}\n",
      "0.546 (+/-0.124) for {'C': 0.1, 'decision_function_shape': 'ovr', 'degree': 1, 'gamma': 5, 'kernel': 'poly'}\n",
      "0.546 (+/-0.124) for {'C': 0.1, 'decision_function_shape': 'ovr', 'degree': 1, 'gamma': 4, 'kernel': 'poly'}\n",
      "0.546 (+/-0.124) for {'C': 0.1, 'decision_function_shape': 'ovr', 'degree': 1, 'gamma': 3, 'kernel': 'poly'}\n",
      "0.546 (+/-0.124) for {'C': 0.1, 'decision_function_shape': 'ovr', 'degree': 1, 'gamma': 2, 'kernel': 'poly'}\n",
      "0.553 (+/-0.135) for {'C': 0.1, 'decision_function_shape': 'ovr', 'degree': 1, 'gamma': 1, 'kernel': 'poly'}\n",
      "0.586 (+/-0.111) for {'C': 0.1, 'decision_function_shape': 'ovr', 'degree': 1, 'gamma': 0.1, 'kernel': 'poly'}\n",
      "0.530 (+/-0.198) for {'C': 0.1, 'decision_function_shape': 'ovr', 'degree': 2, 'gamma': 5, 'kernel': 'poly'}\n",
      "0.530 (+/-0.198) for {'C': 0.1, 'decision_function_shape': 'ovr', 'degree': 2, 'gamma': 4, 'kernel': 'poly'}\n",
      "0.530 (+/-0.198) for {'C': 0.1, 'decision_function_shape': 'ovr', 'degree': 2, 'gamma': 3, 'kernel': 'poly'}\n",
      "0.530 (+/-0.198) for {'C': 0.1, 'decision_function_shape': 'ovr', 'degree': 2, 'gamma': 2, 'kernel': 'poly'}\n",
      "0.530 (+/-0.198) for {'C': 0.1, 'decision_function_shape': 'ovr', 'degree': 2, 'gamma': 1, 'kernel': 'poly'}\n",
      "0.530 (+/-0.198) for {'C': 0.1, 'decision_function_shape': 'ovr', 'degree': 2, 'gamma': 0.1, 'kernel': 'poly'}\n",
      "0.472 (+/-0.075) for {'C': 0.1, 'decision_function_shape': 'ovr', 'degree': 3, 'gamma': 5, 'kernel': 'poly'}\n",
      "0.472 (+/-0.075) for {'C': 0.1, 'decision_function_shape': 'ovr', 'degree': 3, 'gamma': 4, 'kernel': 'poly'}\n",
      "0.472 (+/-0.075) for {'C': 0.1, 'decision_function_shape': 'ovr', 'degree': 3, 'gamma': 3, 'kernel': 'poly'}\n",
      "0.472 (+/-0.075) for {'C': 0.1, 'decision_function_shape': 'ovr', 'degree': 3, 'gamma': 2, 'kernel': 'poly'}\n",
      "0.472 (+/-0.075) for {'C': 0.1, 'decision_function_shape': 'ovr', 'degree': 3, 'gamma': 1, 'kernel': 'poly'}\n",
      "0.472 (+/-0.075) for {'C': 0.1, 'decision_function_shape': 'ovr', 'degree': 3, 'gamma': 0.1, 'kernel': 'poly'}\n",
      "0.546 (+/-0.124) for {'C': 1, 'decision_function_shape': 'ovr', 'degree': 1, 'gamma': 5, 'kernel': 'poly'}\n",
      "0.546 (+/-0.124) for {'C': 1, 'decision_function_shape': 'ovr', 'degree': 1, 'gamma': 4, 'kernel': 'poly'}\n",
      "0.546 (+/-0.124) for {'C': 1, 'decision_function_shape': 'ovr', 'degree': 1, 'gamma': 3, 'kernel': 'poly'}\n",
      "0.546 (+/-0.124) for {'C': 1, 'decision_function_shape': 'ovr', 'degree': 1, 'gamma': 2, 'kernel': 'poly'}\n",
      "0.546 (+/-0.124) for {'C': 1, 'decision_function_shape': 'ovr', 'degree': 1, 'gamma': 1, 'kernel': 'poly'}\n",
      "0.553 (+/-0.135) for {'C': 1, 'decision_function_shape': 'ovr', 'degree': 1, 'gamma': 0.1, 'kernel': 'poly'}\n",
      "0.530 (+/-0.198) for {'C': 1, 'decision_function_shape': 'ovr', 'degree': 2, 'gamma': 5, 'kernel': 'poly'}\n",
      "0.530 (+/-0.198) for {'C': 1, 'decision_function_shape': 'ovr', 'degree': 2, 'gamma': 4, 'kernel': 'poly'}\n",
      "0.530 (+/-0.198) for {'C': 1, 'decision_function_shape': 'ovr', 'degree': 2, 'gamma': 3, 'kernel': 'poly'}\n",
      "0.530 (+/-0.198) for {'C': 1, 'decision_function_shape': 'ovr', 'degree': 2, 'gamma': 2, 'kernel': 'poly'}\n",
      "0.530 (+/-0.198) for {'C': 1, 'decision_function_shape': 'ovr', 'degree': 2, 'gamma': 1, 'kernel': 'poly'}\n",
      "0.530 (+/-0.198) for {'C': 1, 'decision_function_shape': 'ovr', 'degree': 2, 'gamma': 0.1, 'kernel': 'poly'}\n",
      "0.472 (+/-0.075) for {'C': 1, 'decision_function_shape': 'ovr', 'degree': 3, 'gamma': 5, 'kernel': 'poly'}\n",
      "0.472 (+/-0.075) for {'C': 1, 'decision_function_shape': 'ovr', 'degree': 3, 'gamma': 4, 'kernel': 'poly'}\n",
      "0.472 (+/-0.075) for {'C': 1, 'decision_function_shape': 'ovr', 'degree': 3, 'gamma': 3, 'kernel': 'poly'}\n",
      "0.472 (+/-0.075) for {'C': 1, 'decision_function_shape': 'ovr', 'degree': 3, 'gamma': 2, 'kernel': 'poly'}\n",
      "0.472 (+/-0.075) for {'C': 1, 'decision_function_shape': 'ovr', 'degree': 3, 'gamma': 1, 'kernel': 'poly'}\n",
      "0.472 (+/-0.075) for {'C': 1, 'decision_function_shape': 'ovr', 'degree': 3, 'gamma': 0.1, 'kernel': 'poly'}\n",
      "0.546 (+/-0.124) for {'C': 10, 'decision_function_shape': 'ovr', 'degree': 1, 'gamma': 5, 'kernel': 'poly'}\n",
      "0.546 (+/-0.124) for {'C': 10, 'decision_function_shape': 'ovr', 'degree': 1, 'gamma': 4, 'kernel': 'poly'}\n",
      "0.546 (+/-0.124) for {'C': 10, 'decision_function_shape': 'ovr', 'degree': 1, 'gamma': 3, 'kernel': 'poly'}\n",
      "0.546 (+/-0.124) for {'C': 10, 'decision_function_shape': 'ovr', 'degree': 1, 'gamma': 2, 'kernel': 'poly'}\n",
      "0.546 (+/-0.124) for {'C': 10, 'decision_function_shape': 'ovr', 'degree': 1, 'gamma': 1, 'kernel': 'poly'}\n",
      "0.546 (+/-0.124) for {'C': 10, 'decision_function_shape': 'ovr', 'degree': 1, 'gamma': 0.1, 'kernel': 'poly'}\n",
      "0.530 (+/-0.198) for {'C': 10, 'decision_function_shape': 'ovr', 'degree': 2, 'gamma': 5, 'kernel': 'poly'}\n",
      "0.530 (+/-0.198) for {'C': 10, 'decision_function_shape': 'ovr', 'degree': 2, 'gamma': 4, 'kernel': 'poly'}\n",
      "0.530 (+/-0.198) for {'C': 10, 'decision_function_shape': 'ovr', 'degree': 2, 'gamma': 3, 'kernel': 'poly'}\n",
      "0.530 (+/-0.198) for {'C': 10, 'decision_function_shape': 'ovr', 'degree': 2, 'gamma': 2, 'kernel': 'poly'}\n",
      "0.530 (+/-0.198) for {'C': 10, 'decision_function_shape': 'ovr', 'degree': 2, 'gamma': 1, 'kernel': 'poly'}\n",
      "0.530 (+/-0.198) for {'C': 10, 'decision_function_shape': 'ovr', 'degree': 2, 'gamma': 0.1, 'kernel': 'poly'}\n",
      "0.472 (+/-0.075) for {'C': 10, 'decision_function_shape': 'ovr', 'degree': 3, 'gamma': 5, 'kernel': 'poly'}\n",
      "0.472 (+/-0.075) for {'C': 10, 'decision_function_shape': 'ovr', 'degree': 3, 'gamma': 4, 'kernel': 'poly'}\n",
      "0.472 (+/-0.075) for {'C': 10, 'decision_function_shape': 'ovr', 'degree': 3, 'gamma': 3, 'kernel': 'poly'}\n",
      "0.472 (+/-0.075) for {'C': 10, 'decision_function_shape': 'ovr', 'degree': 3, 'gamma': 2, 'kernel': 'poly'}\n",
      "0.472 (+/-0.075) for {'C': 10, 'decision_function_shape': 'ovr', 'degree': 3, 'gamma': 1, 'kernel': 'poly'}\n",
      "0.472 (+/-0.075) for {'C': 10, 'decision_function_shape': 'ovr', 'degree': 3, 'gamma': 0.1, 'kernel': 'poly'}\n",
      "0.546 (+/-0.124) for {'C': 25, 'decision_function_shape': 'ovr', 'degree': 1, 'gamma': 5, 'kernel': 'poly'}\n",
      "0.546 (+/-0.124) for {'C': 25, 'decision_function_shape': 'ovr', 'degree': 1, 'gamma': 4, 'kernel': 'poly'}\n",
      "0.546 (+/-0.124) for {'C': 25, 'decision_function_shape': 'ovr', 'degree': 1, 'gamma': 3, 'kernel': 'poly'}\n",
      "0.546 (+/-0.124) for {'C': 25, 'decision_function_shape': 'ovr', 'degree': 1, 'gamma': 2, 'kernel': 'poly'}\n",
      "0.546 (+/-0.124) for {'C': 25, 'decision_function_shape': 'ovr', 'degree': 1, 'gamma': 1, 'kernel': 'poly'}\n",
      "0.546 (+/-0.124) for {'C': 25, 'decision_function_shape': 'ovr', 'degree': 1, 'gamma': 0.1, 'kernel': 'poly'}\n",
      "0.530 (+/-0.198) for {'C': 25, 'decision_function_shape': 'ovr', 'degree': 2, 'gamma': 5, 'kernel': 'poly'}\n",
      "0.530 (+/-0.198) for {'C': 25, 'decision_function_shape': 'ovr', 'degree': 2, 'gamma': 4, 'kernel': 'poly'}\n",
      "0.530 (+/-0.198) for {'C': 25, 'decision_function_shape': 'ovr', 'degree': 2, 'gamma': 3, 'kernel': 'poly'}\n",
      "0.530 (+/-0.198) for {'C': 25, 'decision_function_shape': 'ovr', 'degree': 2, 'gamma': 2, 'kernel': 'poly'}\n",
      "0.530 (+/-0.198) for {'C': 25, 'decision_function_shape': 'ovr', 'degree': 2, 'gamma': 1, 'kernel': 'poly'}\n",
      "0.530 (+/-0.198) for {'C': 25, 'decision_function_shape': 'ovr', 'degree': 2, 'gamma': 0.1, 'kernel': 'poly'}\n",
      "0.472 (+/-0.075) for {'C': 25, 'decision_function_shape': 'ovr', 'degree': 3, 'gamma': 5, 'kernel': 'poly'}\n",
      "0.472 (+/-0.075) for {'C': 25, 'decision_function_shape': 'ovr', 'degree': 3, 'gamma': 4, 'kernel': 'poly'}\n",
      "0.472 (+/-0.075) for {'C': 25, 'decision_function_shape': 'ovr', 'degree': 3, 'gamma': 3, 'kernel': 'poly'}\n",
      "0.472 (+/-0.075) for {'C': 25, 'decision_function_shape': 'ovr', 'degree': 3, 'gamma': 2, 'kernel': 'poly'}\n",
      "0.472 (+/-0.075) for {'C': 25, 'decision_function_shape': 'ovr', 'degree': 3, 'gamma': 1, 'kernel': 'poly'}\n",
      "0.472 (+/-0.075) for {'C': 25, 'decision_function_shape': 'ovr', 'degree': 3, 'gamma': 0.1, 'kernel': 'poly'}\n",
      "0.546 (+/-0.124) for {'C': 100, 'decision_function_shape': 'ovr', 'degree': 1, 'gamma': 5, 'kernel': 'poly'}\n",
      "0.546 (+/-0.124) for {'C': 100, 'decision_function_shape': 'ovr', 'degree': 1, 'gamma': 4, 'kernel': 'poly'}\n",
      "0.546 (+/-0.124) for {'C': 100, 'decision_function_shape': 'ovr', 'degree': 1, 'gamma': 3, 'kernel': 'poly'}\n",
      "0.546 (+/-0.124) for {'C': 100, 'decision_function_shape': 'ovr', 'degree': 1, 'gamma': 2, 'kernel': 'poly'}\n",
      "0.546 (+/-0.124) for {'C': 100, 'decision_function_shape': 'ovr', 'degree': 1, 'gamma': 1, 'kernel': 'poly'}\n",
      "0.546 (+/-0.124) for {'C': 100, 'decision_function_shape': 'ovr', 'degree': 1, 'gamma': 0.1, 'kernel': 'poly'}\n",
      "0.530 (+/-0.198) for {'C': 100, 'decision_function_shape': 'ovr', 'degree': 2, 'gamma': 5, 'kernel': 'poly'}\n",
      "0.530 (+/-0.198) for {'C': 100, 'decision_function_shape': 'ovr', 'degree': 2, 'gamma': 4, 'kernel': 'poly'}\n",
      "0.530 (+/-0.198) for {'C': 100, 'decision_function_shape': 'ovr', 'degree': 2, 'gamma': 3, 'kernel': 'poly'}\n",
      "0.530 (+/-0.198) for {'C': 100, 'decision_function_shape': 'ovr', 'degree': 2, 'gamma': 2, 'kernel': 'poly'}\n",
      "0.530 (+/-0.198) for {'C': 100, 'decision_function_shape': 'ovr', 'degree': 2, 'gamma': 1, 'kernel': 'poly'}\n",
      "0.530 (+/-0.198) for {'C': 100, 'decision_function_shape': 'ovr', 'degree': 2, 'gamma': 0.1, 'kernel': 'poly'}\n",
      "0.472 (+/-0.075) for {'C': 100, 'decision_function_shape': 'ovr', 'degree': 3, 'gamma': 5, 'kernel': 'poly'}\n",
      "0.472 (+/-0.075) for {'C': 100, 'decision_function_shape': 'ovr', 'degree': 3, 'gamma': 4, 'kernel': 'poly'}\n",
      "0.472 (+/-0.075) for {'C': 100, 'decision_function_shape': 'ovr', 'degree': 3, 'gamma': 3, 'kernel': 'poly'}\n",
      "0.472 (+/-0.075) for {'C': 100, 'decision_function_shape': 'ovr', 'degree': 3, 'gamma': 2, 'kernel': 'poly'}\n",
      "0.472 (+/-0.075) for {'C': 100, 'decision_function_shape': 'ovr', 'degree': 3, 'gamma': 1, 'kernel': 'poly'}\n",
      "0.472 (+/-0.075) for {'C': 100, 'decision_function_shape': 'ovr', 'degree': 3, 'gamma': 0.1, 'kernel': 'poly'}\n",
      "\n",
      "Detailed classification report:\n",
      "\n",
      "The model is trained on the full development set.\n",
      "The scores are computed on the full evaluation set.\n",
      "\n",
      "              precision    recall  f1-score   support\n",
      "\n",
      "         0.0       0.84      0.91      0.87        23\n",
      "         1.0       0.85      0.73      0.79        15\n",
      "\n",
      "    accuracy                           0.84        38\n",
      "   macro avg       0.84      0.82      0.83        38\n",
      "weighted avg       0.84      0.84      0.84        38\n",
      "\n",
      "\n",
      "0.8303571428571428\n"
     ]
    },
    {
     "name": "stderr",
     "output_type": "stream",
     "text": [
      "/home/andrine/anaconda3/lib/python3.7/site-packages/sklearn/model_selection/_search.py:814: DeprecationWarning: The default of the `iid` parameter will change from True to False in version 0.22 and will be removed in 0.24. This will change numeric results when test-set sizes are unequal.\n",
      "  DeprecationWarning)\n"
     ]
    }
   ],
   "source": [
    "tuned_parameters_3 = [ {'C': [0.01, 0.1, 1, 10, 25, 100], 'kernel': ['poly'], 'decision_function_shape': ['ovr'], 'degree': [1,2,3],'gamma': [5, 4, 3, 2, 1, 1e-1] },]\n",
    "polyKernel_param=evaluation_SVM(tuned_parameters_3,X_train, y_train, X_test, y_test)"
   ]
  },
  {
   "cell_type": "markdown",
   "metadata": {},
   "source": [
    "##### Using the best polynomial kernel"
   ]
  },
  {
   "cell_type": "code",
   "execution_count": 12,
   "metadata": {},
   "outputs": [
    {
     "data": {
      "text/plain": [
       "SVC(C=0.01, cache_size=200, class_weight=None, coef0=0.0,\n",
       "    decision_function_shape='ovr', degree=1, gamma=1, kernel='poly',\n",
       "    max_iter=-1, probability=False, random_state=None, shrinking=True,\n",
       "    tol=0.001, verbose=False)"
      ]
     },
     "execution_count": 12,
     "metadata": {},
     "output_type": "execute_result"
    }
   ],
   "source": [
    "rbfKernel_param = {'C': 0.01, 'decision_function_shape': 'ovr', 'degree': 1, 'gamma': 1, 'kernel': 'poly'}\n",
    "best_gaussian_model = SVC(**rbfKernel_param)\n",
    "best_gaussian_model.fit(X_train, y_train)\n"
   ]
  },
  {
   "cell_type": "markdown",
   "metadata": {},
   "source": [
    "##### Storing classifier"
   ]
  },
  {
   "cell_type": "code",
   "execution_count": 13,
   "metadata": {},
   "outputs": [
    {
     "data": {
      "text/plain": [
       "['wet_dry_classifier.joblib']"
      ]
     },
     "execution_count": 13,
     "metadata": {},
     "output_type": "execute_result"
    }
   ],
   "source": [
    "import joblib\n",
    "joblib.dump(best_gaussian_model, 'wet_dry_classifier.joblib')"
   ]
  },
  {
   "cell_type": "code",
   "execution_count": 14,
   "metadata": {},
   "outputs": [
    {
     "name": "stdout",
     "output_type": "stream",
     "text": [
      "0.8809523809523809\n"
     ]
    }
   ],
   "source": [
    "from joblib import dump, load\n",
    "\n",
    "dry_classifier = load('wet_dry_classifier.joblib')\n",
    "#prediction = cough_classifier.predict(features)  # coughs=0 , no_cough = 1\n",
    "result = dry_classifier.score(data_scaled, labels)\n",
    "print(result)"
   ]
  },
  {
   "cell_type": "code",
   "execution_count": 58,
   "metadata": {},
   "outputs": [
    {
     "name": "stdout",
     "output_type": "stream",
     "text": [
      "[[-1.10970786 -0.07338572 -0.15404643 ...  0.32493751 -0.40671435\n",
      "   0.47632032]\n",
      " [ 0.05645245 -0.44531446  0.02247832 ...  1.05617365 -0.02566576\n",
      "   0.63966343]\n",
      " [-0.92171018 -0.47249996  0.61561071 ... -0.95597238 -0.22249436\n",
      "  -0.95614517]\n",
      " ...\n",
      " [ 0.19142631 -0.43379442  0.30333896 ... -0.69696255  1.29340153\n",
      "  -0.92307332]\n",
      " [-0.80865551  0.70850818 -0.32631908 ...  0.83034569 -0.54121925\n",
      "   0.45207825]\n",
      " [ 0.1504119  -0.52399394 -0.11706156 ...  0.30240873 -0.25701388\n",
      "   0.11507386]]\n"
     ]
    }
   ],
   "source": []
  },
  {
   "cell_type": "code",
   "execution_count": null,
   "metadata": {},
   "outputs": [],
   "source": []
  }
 ],
 "metadata": {
  "kernelspec": {
   "display_name": "Python 3",
   "language": "python",
   "name": "python3"
  },
  "language_info": {
   "codemirror_mode": {
    "name": "ipython",
    "version": 3
   },
   "file_extension": ".py",
   "mimetype": "text/x-python",
   "name": "python",
   "nbconvert_exporter": "python",
   "pygments_lexer": "ipython3",
   "version": "3.7.7"
  }
 },
 "nbformat": 4,
 "nbformat_minor": 4
}
